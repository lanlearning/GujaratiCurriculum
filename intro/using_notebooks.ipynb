{
 "cells": [
  {
   "cell_type": "markdown",
   "metadata": {},
   "source": [
    "___\n",
    "\n",
    "<a href='https://www.linkedin.com/company/lanlearning/'> <img src='images/logosmall.png' width=\"100\" height=\"100\"/></a>\n",
    "___\n",
    "<center>Copyright LanLearning 2020</center>\n"
   ]
  },
  {
   "cell_type": "markdown",
   "metadata": {},
   "source": [
    "# Welcome to Jupyter Notebook\n",
    "\n",
    "# જ્યુપિટર નોટબુક સુ છે ?\n",
    "\n",
    "This workbook is designed for you to learn the basics of navigating this notebook environment. You will learn about the different functions and tools in the tab bar above. \n",
    "\n",
    "હવે તમે શીખીસો કે જ્યુપીટર નોટબુકનો ઉપયોગ કેવી રીતે કરવો. તમે કોડિંગ માટેના બધા સાધનો અને કાર્યો શીખી શકશો."
   ]
  },
  {
   "cell_type": "markdown",
   "metadata": {},
   "source": [
    "## What is a cell?\n",
    "\n",
    "## સેલ સુ છે?\n",
    "\n",
    "A **cell is a block in this Jupyter Notebook environment**. When you click on a cell, it should be highlighted in blue. \n",
    "\n",
    "Click *here* once to select this cell. (There should be a blue line to the left if you did this correctly)\n",
    "\n",
    "સેલ એ જ્યુપીટર નોટબુકમાં એક બ્લોક છે. તે એક ખાણુ જેવું છે.\n",
    "\n",
    "જ્યારે તમે કોઈ સેલ પર ક્લિક કરો છો, ત્યારે તે વાદળી થઈ જાય છે. "
   ]
  },
  {
   "cell_type": "markdown",
   "metadata": {},
   "source": [
    "## Opening a cell:\n",
    "\n",
    "## કેવી રીતે સેલ ખોલવા માટે:\n",
    "\n",
    "To open a cell (in case you want to edit it), double click on a cell. To open this cell, double-click *here*. Once you have opened a cell, you may notice that the blue line on the left is now green.\n",
    "\n",
    "Now you have the ability to change the text here (don't do it!). \n",
    "\n",
    "To close, **or run**, the cell, press ```Shift + Enter``` on your keyboard. \n",
    "\n",
    "Everything should be back to normal now. \n",
    "\n",
    "સેલ ખોલવા માટે, તમે તેના પર ડબલ ક્લિક કરી શકો છો. એકવાર સેલ ખોલ્યા પછી તે લીલો થઈ જાય છે\n",
    "\n",
    "સેલ બંધ કરવા માટે ટાઇપ કરો ```Shift + Enter```."
   ]
  },
  {
   "cell_type": "markdown",
   "metadata": {},
   "source": [
    "## Different Types of Cells\n",
    "\n",
    "## વિવિધ પ્રકારના સેલ"
   ]
  },
  {
   "cell_type": "markdown",
   "metadata": {},
   "source": [
    "### A code cell: \n",
    "\n",
    "## કોડિંગ સેલ\n",
    "\n",
    "A **code cell is where you will be writing your code**. This is where the magic happens! \n",
    "\n",
    "The cell below this one is a code cell. Notice the differences between *this cell* and the cell below. \n",
    "\n",
    "The key difference is that the words in a code cell will have different colors depending on what they stand for. More on that later...\n",
    "\n",
    "તમે કોડિંગ સેલમાં કોડ લખશો. કોડિંગ સેલની વિવિધ પૃષ્ઠભૂમિ છે. \n",
    "\n",
    "શબ્દો માટે રંગો અલગ છે."
   ]
  },
  {
   "cell_type": "code",
   "execution_count": 2,
   "metadata": {},
   "outputs": [],
   "source": [
    "# This is a code cell\n",
    "# આ એક કોડ સેલ છે\n",
    "\n",
    "# A code cell is where you write code\n",
    "\n",
    "# Notice this code cell has a 'In [1]:' next to it.\n",
    "# This represents this cell as the first input. This means that this is the first code cell in this notebook!"
   ]
  },
  {
   "cell_type": "markdown",
   "metadata": {},
   "source": [
    "### A markdown cell:\n",
    "\n",
    "### માર્કડાઉન સેલ:\n",
    "\n",
    "\n",
    "A **markdown cell is where you will be writing text**. This is where you can make comments about your code and have them look like normal text. \n",
    "\n",
    "Markdown cells are important because they allow you to talk about your code within the same notebook. \n",
    "\n",
    "*Notice*: Markdown cells like this one do not have an ```In [ ]:``` next to it!\n",
    "\n",
    "I will be using markdown cells to teach you and make comments about the code!\n",
    "\n",
    "\n",
    "માર્કડાઉન સેલ તે છે જ્યાં તમે શબ્દો લખો છો જે કોડ નથી. તમે માર્કડાઉન સેલથી રીડર સાથે વાત કરી શકો છો."
   ]
  },
  {
   "cell_type": "markdown",
   "metadata": {},
   "source": [
    "## Working with cells:\n",
    "\n",
    "## કેવી રીતે સેલ વાપરવા માટે:"
   ]
  },
  {
   "cell_type": "markdown",
   "metadata": {},
   "source": [
    "### Add a cell:\n",
    "\n",
    "### એક સેલ ઉમેરી રહ્યા છે\n",
    "To add a cell, you need to press the ```+``` button on the tab bar above.\n",
    "\n",
    "To add a cell under another cell, you first need to click the cell you want to add a new one under. \n",
    "\n",
    "If you want to add a cell under *this cell*, highlight this cell first and then press the ```+``` button from the tab bar above. (Or, you can press `A` or `B` on your keyboard for a new cell above or below your selected cell.)\n",
    "\n",
    "પ્રથમ સેલ પસંદ કરો અને પછી ```+``` દબાવો. તે હેઠળ, એક નવો સેલ હશે"
   ]
  },
  {
   "cell_type": "markdown",
   "metadata": {},
   "source": [
    "## A new cell will automatically be a code cell.\n",
    "\n",
    "## બધા નવા સેલ આપમેળે કોડ સેલ હશે\n",
    "\n",
    "To change a cell from a markdown to a code cell, use the drop down on the tab bar. You can also press `m` for Markdown and `y` for code.\n",
    "\n",
    "Click the cell first, and then change the cell's type. \n",
    "\n",
    "Try not to convert the cells into ```Raw NBConvert``` or ```Heading```. We won't be using those in these notebook lessons.\n",
    "\n",
    "સેલ બદલવા માટે ટોચ પરનાં વિકલ્પોને ક્લિક કરો.\n",
    "\n",
    "તમે કોડ સેલને માર્કડાઉનમાં અને માર્કડાઉનને કોડ સેલ્સમાં બદલી શકો છો."
   ]
  },
  {
   "cell_type": "markdown",
   "metadata": {},
   "source": [
    "## Delete a cell:\n",
    "\n",
    "## સેલ કાઢી નાકો \n",
    "\n",
    "To delete a cell, click on the cell you want to delete and press the scissors to the right of the plus sign (or double press `d`). But **DO NOT** delete this cell. \n",
    "\n",
    "Instead, try it on the code cells below:\n",
    "\n",
    "સેલને દૂર કરવા માટે, ટોચ પર કાતર ક્લિક કરો. **પરંતુ આ સેલને દૂર કરશો નહીં**\n",
    "\n",
    "નીચે ખાલી સેલને દૂર કરો"
   ]
  },
  {
   "cell_type": "code",
   "execution_count": null,
   "metadata": {},
   "outputs": [],
   "source": []
  },
  {
   "cell_type": "code",
   "execution_count": null,
   "metadata": {},
   "outputs": [],
   "source": []
  },
  {
   "cell_type": "code",
   "execution_count": null,
   "metadata": {},
   "outputs": [],
   "source": []
  },
  {
   "cell_type": "markdown",
   "metadata": {},
   "source": [
    "#### If you deleted the cell above by accident, click ```Edit``` on the topmost tab bar, then click ```Undo Delete Cells```. \n",
    "\n",
    "#### સેલ પાછો લાવવા માટે ક્લિક કરો ```Edit``` પછી ક્લિક કરો ```Undo Delete Cells```."
   ]
  },
  {
   "cell_type": "markdown",
   "metadata": {},
   "source": [
    "## Moving cells:\n",
    "\n",
    "## સેલને ખસેડવા માટે:\n",
    "\n",
    "To move a cell up or down, use the up and down arrows on the tab bar. They are two spots over to the right of the scissors. \n",
    "\n",
    "This is useful to order your code in the way you like. I use this feature a lot when making these lessons. \n",
    "\n",
    "સેલને ઉપર અને નીચે ખસેડવા માટે, ટોચ પર તીરને ક્લિક કરો."
   ]
  },
  {
   "cell_type": "markdown",
   "metadata": {},
   "source": [
    "# End\n",
    "\n",
    "# અંત\n",
    "\n",
    "That's all for now with this tutorial notebook. \n",
    "\n",
    "**Note**: I haven't covered a lot of the functions of the notebook. There are many other buttons that you can use, but they are used as an alternative. \n",
    "\n",
    "For example, you can press ```Run``` on the tab bar to run a code. However, I prefer to use ```Shift + Enter``` instead. \n",
    "\n",
    "Feel free to mess around with the other buttons above and learn more about this environment. \n",
    "\n",
    "શીખવા માટે ઘણી બધી સામગ્રી બાકી છે.\n",
    "\n",
    "પરંતુ આપણે સાથે મળીને શીખીશું.\n",
    "\n",
    "\n",
    "## Saving you work: \n",
    "To save your work, you can press ```command + S```/`ctrl + S` or locate ```Save and Checkpoint``` under ```File``` in the tab bar above. \n",
    "\n",
    "તમારા કાર્યને બચાવવા માટે, ક્લિક કરો ```command + S```/`ctrl + S`, અથવા  ```File``` underneath ```Save and Checkpoint```."
   ]
  },
  {
   "cell_type": "markdown",
   "metadata": {},
   "source": [
    "# Recap\n",
    "## Cells\n",
    "###### A **cell is a block in this Jupyter Notebook environment**; it turns blue when it's clicked on.\n",
    "- Double click to open a cell when you need to edit it.\n",
    "- Press Shift + Enter on your keyboard to run cell. \n",
    "- Place to write code = code cell.\n",
    "- Write text in markdown cell to talk about your code. This cell is a markdown cell because it does not have an ```In [ ]:``` next to it.\n",
    "- Click on a cell and then the ```+``` button on the tab bar to add cell(s). Will automatically be code cell.\n",
    "- Click on a cell and then scissors to the right of the ```+``` button on the tab bar to remove cell(s).\n",
    "- Move cells using the arrows on the tab bar.\n"
   ]
  },
  {
   "cell_type": "markdown",
   "metadata": {},
   "source": [
    "### About this notebook: \n",
    "#### Developed by:\n",
    "* [Milan Butani](https://www.linkedin.com/in/milanbutani/) \n",
    "* [Amy Tran](https://www.linkedin.com/in/amytran2303/)\n",
    "* [Jacqueline Mei](https://www.linkedin.com/in/jacqueline-mei-9140401aa/)\n",
    "\n",
    "#### Translated by:\n",
    "* [Milan Butani](https://www.linkedin.com/in/milanbutani/)\n",
    "\n",
    "#### Connect with us:\n",
    "<a href='https://www.linkedin.com/company/lanlearning/'> <img src=https://img.icons8.com/color/48/000000/linkedin.png width=\"48\" height=\"48\" align=\"left\"/></a>\n",
    "\n",
    "<a href='http://www.instagram.com/lanlearning'> <img src=https://img.icons8.com/fluent/48/000000/instagram-new.png width=\"48\" height=\"48\" align=\"left\"/></a>\n",
    "\n",
    "<a href='https://www.youtube.com/channel/UC5_yxU9pz4ka7xITJMxO5WA'> <img src=https://img.icons8.com/color/48/000000/youtube-squared.png width=\"48\" height=\"48\" align=\"left\"/></a>\n",
    "\n",
    "<a href='https://www.github.com/lanlearning/'> <img src=https://img.icons8.com/material-rounded/48/000000/github.png/ width=\"48\" height=\"48\" align=\"left\"/></a>"
   ]
  },
  {
   "cell_type": "code",
   "execution_count": null,
   "metadata": {},
   "outputs": [],
   "source": []
  }
 ],
 "metadata": {
  "kernelspec": {
   "display_name": "Python 3",
   "language": "python",
   "name": "python3"
  },
  "language_info": {
   "codemirror_mode": {
    "name": "ipython",
    "version": 3
   },
   "file_extension": ".py",
   "mimetype": "text/x-python",
   "name": "python",
   "nbconvert_exporter": "python",
   "pygments_lexer": "ipython3",
   "version": "3.8.2"
  }
 },
 "nbformat": 4,
 "nbformat_minor": 4
}
