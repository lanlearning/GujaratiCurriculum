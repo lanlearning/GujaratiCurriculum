{
 "cells": [
  {
   "cell_type": "markdown",
   "metadata": {},
   "source": [
    "___\n",
    "\n",
    "<a href='https://www.instagram.com/lanlearning/'> <img src='../pyimages/logosmall.png' width=\"100\" height=\"100\"/></a>\n",
    "___\n",
    "<center>Copyright LanLearning 2020</center>\n",
    "\n",
    "\n"
   ]
  },
  {
   "cell_type": "markdown",
   "metadata": {},
   "source": [
    "# Welcome back! Let's Start Part 2!\n",
    "# સ્વાગત છે! ચાલો ભાગ 2 શરૂ કરીએ!\n",
    "\n",
    "<br>\n",
    "\n",
    "This workbook is designed for you to learn the basics of Python. There will be a few workbooks like this one designed to help you learn Python in the following parts. \n",
    "\n",
    "આ વર્કબુક તમને પાયથોનની મૂળ બાબતો શીખવા માટે બનાવવામાં આવી છે. નીચે આપેલા ભાગોમાં પાયથોન શીખવામાં તમારી સહાય માટે રચાયેલ આ જેવા કેટલાક વર્કબુક હશે.\n",
    "\n",
    "<br>\n",
    "\n",
    "Please follow the notebooks in the order below because the topics build off of content that was covered in previous notebooks:\n",
    "- Part 1: Basic Data Types\n",
    "- Part 2: Advance Data Types (one we are on right now)\n",
    "- Part 3: Functions\n",
    "- Part 4: Python Processes\n",
    "- Part 5: NumPy\n",
    "\n",
    "કૃપા કરીને નીચેના ક્રમમાં નોટબુકનું પાલન કરો કારણ કે અગાઉના નોટબુકમાં આવરી લેવામાં આવતી વિષયવસ્તુ સમાવિષ્ટ છે:\n",
    "- ભાગ 1: મૂળ ડેટાના પ્રકારો\n",
    "- ભાગ 2: એડવાન્સ ડેટા પ્રકાર\n",
    "- ભાગ 3: કાર્યો\n",
    "- ભાગ 4: પાયથોન પ્રક્રિયાઓ\n",
    "- ભાગ 5: NumPy"
   ]
  },
  {
   "cell_type": "markdown",
   "metadata": {},
   "source": [
    "## Advanced Data Types:\n",
    "## એડવાનસ ડેટા પ્રકારો:\n",
    "\n",
    "<br>\n",
    "\n",
    "In the previous notebook, we covered some of the basic data types in Python. Those included strings, integers, floats, and booleans. \n",
    "\n",
    "પહેલાની નોટબુકમાં, અમે પાયથોનમાં કેટલાક મૂળભૂત ડેટા પ્રકારોને આવરી લીધા છે. તેમાં સિટૃગ્સ, પૂર્ણાંકો, ફ્લોટ્સ અને બુલિયન શામેલ છે.\n",
    "\n",
    "<br>\n",
    "\n",
    "Advanced data types will be those that make use of the basic data types. These include: \n",
    "1. Lists or arrays \n",
    "2. Dictionaries \n",
    "3. Sets\n",
    "4. Functions\n",
    "\n",
    "એડવાનસ ડેટા પ્રકારો તે હશે જે મૂળભૂત ડેટા પ્રકારોનો ઉપયોગ કરે છે. આમાં શામેલ છે:\n",
    "1. સૂચિઓ અથવા એરે\n",
    "2. ડીકસનરી \n",
    "3. સેટ\n",
    "4. કાર્યો\n",
    "\n",
    "<br>\n",
    "\n",
    "This notebook will cover everything mentioned above except for functions, as they will be covered in the next notebook.\n",
    "\n",
    "આ નોટબુક કાર્યો સિવાય ઉપર જણાવેલ દરેક બાબતોને આવરી લેશે, કારણ કે તે આગામી નોટબુકમાં આવરી લેવામાં આવશે.\n",
    "\n",
    "<br>\n",
    "\n",
    "So let's get into it!\n",
    "\n",
    "તો ચાલો તેમાં પ્રવેશ કરીએ!"
   ]
  },
  {
   "cell_type": "markdown",
   "metadata": {},
   "source": [
    "### List or Array: \n",
    "### લીસટ અથવા એરે:\n",
    "\n",
    "<br>\n",
    "<img src='../pyimages/list.jpg' width=\"300\"/></a>\n",
    "<br>\n",
    "\n",
    "A list in Python is a collection of items. These items could be a group of variables or a group of data types.\n",
    "\n",
    "પાયથોનમાં લીસટ એ વસ્તુઓનો સંગ્રહ છે. આ વસ્તુઓ વેરીએબલ અથવા ડેટા પ્રકારોનું જૂથ હોઈ શકે છે.\n",
    "\n",
    "<br>\n",
    "\n",
    "#### To create a list, use the ```[  ]``` square brackets\n",
    "#### લીસટ બનાવવા માટે, ```[  ]```  ઉપયોગ કરો\n",
    "\n",
    "<br>\n",
    "\n",
    "Inside of the brackets ```[ ]```, write down your items and separate them with commas to avoid a syntax error!\n",
    "\n",
    "```[ ]``` ની અંદર, વાક્યરચનાની ભૂલને ટાળવા માટે તમારી આઇટમ્સ લખો અને તેમને અલ્પવિરામથી અલગ કરો!\n",
    "\n",
    "<br>\n",
    "\n",
    "Let's do an example. Say you want to make a list that contains all numbers from one to five: \n",
    "\n",
    "ચાલો એક ઉદાહરણ કરીએ. કહો કે તમે એક લીસટ બનાવવા માંગો છો જેમાં એકથી પાંચ સુધીની સંખ્યાઓ શામેલ છે:"
   ]
  },
  {
   "cell_type": "code",
   "execution_count": null,
   "metadata": {},
   "outputs": [],
   "source": [
    "[1, 2, 3, 4, 5]"
   ]
  },
  {
   "cell_type": "markdown",
   "metadata": {},
   "source": [
    "The code above is how you would make a list of the first five numbers.\n",
    "\n",
    "ઉપરનો કોડ એ છે કે તમે પ્રથમ પાંચ નંબરની લીસટ કેવી રીતે બનાવશો.\n",
    "\n",
    "<br>\n",
    "\n",
    "This piece of data can be stored under a variable name. \n",
    "\n",
    "ડેટાના આ ભાગને વેરીએબલ નામ હેઠળ સંગ્રહિત કરી શકાય છે.\n",
    "\n",
    "<br>\n",
    "\n",
    "If you want to name your list ```the_first_five_ints```, set it equal to your list:\n",
    "\n",
    "જો તમે તમારી લીસટનું નામ ```the_first_five_ints``` રાખવા માંગો છો, તો તેને તમારી લીસટની બરાબર સેટ કરો:"
   ]
  },
  {
   "cell_type": "code",
   "execution_count": null,
   "metadata": {},
   "outputs": [],
   "source": [
    "the_first_five_ints = [1, 2, 3, 4, 5]"
   ]
  },
  {
   "cell_type": "code",
   "execution_count": null,
   "metadata": {},
   "outputs": [],
   "source": [
    "the_first_five_ints"
   ]
  },
  {
   "cell_type": "markdown",
   "metadata": {},
   "source": [
    "A list can have **multiple different data types within it**: \n",
    "\n",
    "લીસટમાં **તેમાં વિવિધ પ્રકારનાં ડેટા પ્રકારો** હોઈ શકે છે:"
   ]
  },
  {
   "cell_type": "code",
   "execution_count": null,
   "metadata": {},
   "outputs": [],
   "source": [
    "diverse_list = ['hi', 2, True, 30.4]\n",
    "diverse_list"
   ]
  },
  {
   "cell_type": "markdown",
   "metadata": {},
   "source": [
    "To check the length of the list, use the built-in ```len()``` function:\n",
    "\n",
    "લીસટની લંબાઈને તપાસવા માટે, બિલ્ટ-ઇન ```len()``` ફંક્શનનો ઉપયોગ કરો:"
   ]
  },
  {
   "cell_type": "code",
   "execution_count": null,
   "metadata": {},
   "outputs": [],
   "source": [
    "len(diverse_list)"
   ]
  },
  {
   "cell_type": "code",
   "execution_count": null,
   "metadata": {},
   "outputs": [],
   "source": [
    "len(the_first_five_ints)"
   ]
  },
  {
   "cell_type": "markdown",
   "metadata": {},
   "source": [
    "**You can put a list inside of a list, too**:\n",
    "\n",
    "**તમે લીસટની અંદર લીસટ પણ મૂકી શકો છો**:"
   ]
  },
  {
   "cell_type": "code",
   "execution_count": null,
   "metadata": {},
   "outputs": [],
   "source": [
    "inside_list = [diverse_list, the_first_five_ints]\n",
    "inside_list"
   ]
  },
  {
   "cell_type": "markdown",
   "metadata": {},
   "source": [
    "**Adding Values to a List**\n",
    "\n",
    "**લીસટમાં મૂલ્યો ઉમેરવાનું**"
   ]
  },
  {
   "cell_type": "markdown",
   "metadata": {},
   "source": [
    "If you want to add new values to your list, there are a couple ways to do it. For example, let's say that you created a list of all your friends' names, but since you made some new friends through this Data Science camp, you want to add them to your list:\n",
    "\n",
    "જો તમે તમારી લીસટમાં નવા મૂલ્યો ઉમેરવા માંગતા હો, તો તેને કરવા માટે કેટલીક રીતો છે. ઉદાહરણ તરીકે, જણાવી દઈએ કે તમે તમારા બધા મિત્રોના નામની લીસટ બનાવી છે, પરંતુ તમે આ ડેટા સાયન્સ કેમ્પ દ્વારા કેટલાક નવા મિત્રો બનાવ્યા હોવાથી, તમે તેમને તમારી લીસટમાં ઉમેરવા માંગો છો:"
   ]
  },
  {
   "cell_type": "code",
   "execution_count": null,
   "metadata": {},
   "outputs": [],
   "source": [
    "friend_list = [\"Michelle\", \"Kaleen\", \"Lance\", \"James\"]  # original friend list"
   ]
  },
  {
   "cell_type": "markdown",
   "metadata": {},
   "source": [
    "The **.append(value_name)** method can be used to add their names!\n",
    "\n",
    "**.append(value_name)** પદ્ધતિનો ઉપયોગ તેમના નામો ઉમેરવા માટે કરી શકાય છે!"
   ]
  },
  {
   "cell_type": "code",
   "execution_count": null,
   "metadata": {},
   "outputs": [],
   "source": [
    "friend_list.append(\"Ethan\")"
   ]
  },
  {
   "cell_type": "markdown",
   "metadata": {},
   "source": [
    "Or you could add names by creating a list of your new friends' names and then adding it to your original friend_list by using the + sign.\n",
    "\n",
    "અથવા તમે તમારા નવા મિત્રોના નામની લીસટ બનાવીને નામો ઉમેરી શકો છો અને પછી + નો ઉપયોગ કરીને તેને તમારા મૂળ મિત્રની લીસટમાં ઉમેરી શકો છો."
   ]
  },
  {
   "cell_type": "code",
   "execution_count": null,
   "metadata": {},
   "outputs": [],
   "source": [
    "friend_list = friend_list + [\"Katherine\", \"Adeline\"]     # shortcut is just writing friend_list += [\"Katherine\", \"Adeline\"]"
   ]
  },
  {
   "cell_type": "markdown",
   "metadata": {},
   "source": [
    "Ta da! Your friend_list is now updated!\n",
    "\n",
    "તમારી મિત્રની લીસટ હવે અપડેટ થઈ છે!"
   ]
  },
  {
   "cell_type": "code",
   "execution_count": null,
   "metadata": {},
   "outputs": [],
   "source": [
    "friend_list"
   ]
  },
  {
   "cell_type": "markdown",
   "metadata": {},
   "source": [
    "**Deleting Values from a List**\n",
    "\n",
    "**લીસટમાંથી મૂલ્યોને કાઢવાા**"
   ]
  },
  {
   "cell_type": "markdown",
   "metadata": {},
   "source": [
    "It's important to know that you can also delete values from a list by using the **.remove(value_name)** method.\n",
    "\n",
    "તે જાણવું અગત્યનું છે કે તમે **.remove (value_name)** પદ્ધતિનો ઉપયોગ કરીને લીસટમાંથી મૂલ્યોને પણ કાઢી શકો છો."
   ]
  },
  {
   "cell_type": "code",
   "execution_count": null,
   "metadata": {},
   "outputs": [],
   "source": [
    "friend_list.remove(\"Michelle\")\n",
    "friend_list"
   ]
  },
  {
   "cell_type": "code",
   "execution_count": null,
   "metadata": {},
   "outputs": [],
   "source": [
    "fruits = []\n",
    "vegetables = []"
   ]
  },
  {
   "cell_type": "code",
   "execution_count": null,
   "metadata": {},
   "outputs": [],
   "source": [
    "fruits.append('apple')\n",
    "fruits"
   ]
  },
  {
   "cell_type": "code",
   "execution_count": null,
   "metadata": {},
   "outputs": [],
   "source": [
    "fruits = fruits + ['pear']\n",
    "vegetables.append(\"lettuce\")\n",
    "vegetables = vegetables + [\"carrot\"]"
   ]
  },
  {
   "cell_type": "code",
   "execution_count": null,
   "metadata": {},
   "outputs": [],
   "source": [
    "len(fruits)"
   ]
  },
  {
   "cell_type": "code",
   "execution_count": null,
   "metadata": {},
   "outputs": [],
   "source": [
    "fruits.remove('pear')"
   ]
  },
  {
   "cell_type": "code",
   "execution_count": null,
   "metadata": {},
   "outputs": [],
   "source": [
    "fruits"
   ]
  },
  {
   "cell_type": "code",
   "execution_count": null,
   "metadata": {},
   "outputs": [],
   "source": [
    "vegetables"
   ]
  },
  {
   "cell_type": "code",
   "execution_count": null,
   "metadata": {},
   "outputs": [],
   "source": [
    "grocery_list = fruits + vegetables"
   ]
  },
  {
   "cell_type": "code",
   "execution_count": null,
   "metadata": {},
   "outputs": [],
   "source": [
    "grocery_list"
   ]
  },
  {
   "cell_type": "code",
   "execution_count": null,
   "metadata": {},
   "outputs": [],
   "source": [
    "grocery_list.remove('strawberry')"
   ]
  },
  {
   "cell_type": "code",
   "execution_count": null,
   "metadata": {},
   "outputs": [],
   "source": [
    "x = 2"
   ]
  },
  {
   "cell_type": "code",
   "execution_count": null,
   "metadata": {},
   "outputs": [],
   "source": [
    "# This is more code for adding a value\n",
    "\n",
    "# આ મૂલ્ય ઉમેરવા માટે આ વધુ કોડ છે\n",
    "\n",
    "x = x + 2 # \"x equals x + 2\"\n",
    "x"
   ]
  },
  {
   "cell_type": "code",
   "execution_count": null,
   "metadata": {},
   "outputs": [],
   "source": [
    "x = 2"
   ]
  },
  {
   "cell_type": "code",
   "execution_count": null,
   "metadata": {},
   "outputs": [],
   "source": [
    "# this is a shortcut \n",
    "\n",
    "# આ એક શોર્ટકટ છે\n",
    "\n",
    "x += 2 # \"x equals x + 2\""
   ]
  },
  {
   "cell_type": "code",
   "execution_count": null,
   "metadata": {},
   "outputs": [],
   "source": [
    "x"
   ]
  },
  {
   "cell_type": "code",
   "execution_count": null,
   "metadata": {},
   "outputs": [],
   "source": [
    "fruits = fruits + ['strawberry'] #no shortcut for adding strawberry \n",
    "fruits"
   ]
  },
  {
   "cell_type": "code",
   "execution_count": null,
   "metadata": {},
   "outputs": [],
   "source": [
    "fruits += ['grape'] #shortcut method for adding grape \n",
    "fruits"
   ]
  },
  {
   "cell_type": "markdown",
   "metadata": {},
   "source": [
    "## Indexing:\n",
    "## અનુક્રમણિકા:\n",
    "\n",
    "Before going into the other advanced data types, let's take a second to understand what **indexing** is. \n",
    "\n",
    "અન્ય અદ્યતન ડેટા પ્રકારોમાં જવા પહેલાં, ચાલો **અનુક્રમણિકા** શું છે તે સમજવા માટે થોડીવાર લઈએ.\n",
    "\n",
    "<br>\n",
    "<img src='../pyimages/index.jpg' width=\"300\"/></a>\n",
    "<br>\n",
    "\n",
    "**Indexing** allows you to extract individual elements that are inside your advanced data type. \n",
    "- For example, indexing can help you find the first, second, or any element in the list or array. \n",
    "\n",
    "<br>\n",
    "\n",
    "**અનુક્રમણિકા** તમને તમારા વિગતવાર ડેટા પ્રકારમાં રહેલા વ્યક્તિગત તત્વોને બહાર કા toવાની મંજૂરી આપે છે.\n",
    "- ઉદાહરણ તરીકે, અનુક્રમણિકા તમને લીસટ અથવા એરેમાં પ્રથમ, બીજું અથવા કોઈપણ તત્વ શોધવામાં સહાય કરી શકે છે.\n",
    "\n",
    "<br>\n",
    "\n",
    "To index into your array, you need to use **bracket notation** ```[  ]```.\n",
    "\n",
    "તમારા એરેમાં અનુક્રમણિકા કરવા માટે, તમારે **કૌંસ સંકેત** ```[  ]``` વાપરવાની જરૂર છે.\n",
    "\n",
    "<br>\n",
    "\n",
    "#### Bracket Notation: \n",
    "#### કૌંસ સંકેત:\n",
    "\n",
    "<br>\n",
    "\n",
    "To extract an element from a list, simply type ```[]``` after typing in the variable name that the list is stored under. Inside the ```[]```, put a number to specify the location of the item that you want to select. Indexing always starts at 0!\n",
    "- If you want the first item from your list, use the number 0 in your brackets. \n",
    "- If you want the second item from your list, use the number 1 in your brackets. \n",
    "\n",
    "લીસટમાંથી તત્વ મેળવવાકાઢવાા માટે, લીસટ હેઠળ સંગ્રહિત .વેરીએબલ નામ લખીને પછી ફક્ત ```[]```. લખો. ```[]``` ની અંદર, તમે પસંદ કરવા માંગો છો તે આઇટમનું સ્થાન સ્પષ્ટ કરવા માટે એક નંબર મૂકો. અનુક્રમણિકા હંમેશા 0 થી શરૂ થાય છે!\n",
    "- જો તમને તમારી લીસટમાંથી પ્રથમ વસ્તુ જોઈએ છે, તો તમારા ```[]``` માં સંખ્યા 0 નો ઉપયોગ કરો\n",
    "- જો તમને તમારી લીસટમાંથી બીજી વસ્તુ જોઈએ છે, તો તમારા ```[]``` માં નંબર 1 નો ઉપયોગ કરો.\n",
    "\n",
    "<br>\n",
    "\n",
    "To summarize, the index of an item will be the place of the item in the list **minus 1**.\n",
    "\n",
    "સારાંશ માટે, આઇટમનું અનુક્રમણિકા લીસટમાં **બાદબાકી 1** ની આઇટમનું સ્થાન હશે.\n",
    "\n",
    "<br>\n",
    "\n",
    "Now let's apply some indexing skills in an example!\n",
    "\n",
    "હવે ચાલો એક ઉદાહરણમાં કેટલીક અનુક્રમણિકા કુશળતા લાગુ કરીએ!\n",
    "\n",
    "<br>\n",
    "\n",
    "Let's say I want to select the third item in my ```the_first_five_ints``` array. To do so, I will write: ```the_first_five_ints[2]``` because 3 (from the \"third item\" specification) minus 1 is 2.\n",
    "\n",
    "ચાલો કહીએ કે હું મારા ```the_first_five_ints``` એરેમાં ત્રીજી આઇટમ પસંદ કરવા માંગું છું. આમ કરવા માટે, હું લખીશ: ```the_first_five_ints[2]``` કારણ કે 3 (\"ત્રીજી વસ્તુ\" સ્પષ્ટીકરણમાંથી) બાદબાકી 1 એ 2 છે."
   ]
  },
  {
   "cell_type": "code",
   "execution_count": null,
   "metadata": {},
   "outputs": [],
   "source": [
    "fruits"
   ]
  },
  {
   "cell_type": "code",
   "execution_count": null,
   "metadata": {},
   "outputs": [],
   "source": [
    "fruits[1]"
   ]
  },
  {
   "cell_type": "code",
   "execution_count": null,
   "metadata": {},
   "outputs": [],
   "source": [
    "# That's how indexing works: for any item, to get it out, use \"location minus 1\"\n",
    "\n",
    "#આ રીતે અનુક્રમણિકા કેવી રીતે કાર્ય કરે છે: કોઈપણ વસ્તુ માટે તેને બહાર મેળવવા માટે, \"સ્થાન માઇનસ 1\" નો ઉપયોગ કરો.\n",
    "\n",
    "\n",
    "# To get item 2 from your list, use index 1\n",
    "\n",
    "# તમારી લીસટમાંથી આઇટમ 2 મેળવવા માટે, અનુક્રમણિકા 1 નો ઉપયોગ કરો"
   ]
  },
  {
   "cell_type": "code",
   "execution_count": null,
   "metadata": {},
   "outputs": [],
   "source": [
    "# To get grape out of fruits:\n",
    "\n",
    "# 'fruits' માંથી 'grape' મેળવવા:\n",
    "\n",
    "fruits[3]"
   ]
  },
  {
   "cell_type": "code",
   "execution_count": null,
   "metadata": {},
   "outputs": [],
   "source": []
  },
  {
   "cell_type": "code",
   "execution_count": null,
   "metadata": {},
   "outputs": [],
   "source": [
    "the_first_five_ints[2]"
   ]
  },
  {
   "cell_type": "code",
   "execution_count": null,
   "metadata": {},
   "outputs": [],
   "source": [
    "inside_list[0]"
   ]
  },
  {
   "cell_type": "code",
   "execution_count": null,
   "metadata": {},
   "outputs": [],
   "source": [
    "inside_list[0][2]"
   ]
  },
  {
   "cell_type": "markdown",
   "metadata": {},
   "source": [
    "### Indexing in Strings: \n",
    "### સ્ટ્રિંગ્સમાં અનુક્રમણિકા:\n",
    "\n",
    "<br>\n",
    "\n",
    "You can also index into strings! \n",
    "\n",
    "તમે પણ સિટૃગ્સ માં અનુક્રમણિકા કરી શકો છો!\n",
    "\n",
    "<br>\n",
    "\n",
    "If you want the first letter in the string, write ```[0]``` next to the string or its variable. \n",
    "\n",
    "જો તમને સિટૃગ્સમાં પહેલો અક્ષર જોઈએ છે, તો સિટૃગ્સ અથવા તેના વેરીએબલની બાજુમાં ```[0]``` લખો.\n",
    "\n",
    "<br>\n",
    "\n",
    "For example: \n",
    "\n",
    "દાખ્લા તરીકે:"
   ]
  },
  {
   "cell_type": "code",
   "execution_count": null,
   "metadata": {},
   "outputs": [],
   "source": [
    "'Milan'[0]"
   ]
  },
  {
   "cell_type": "code",
   "execution_count": null,
   "metadata": {},
   "outputs": [],
   "source": [
    "my_string = 'Milan'\n",
    "my_string[0]"
   ]
  },
  {
   "cell_type": "code",
   "execution_count": null,
   "metadata": {},
   "outputs": [],
   "source": [
    "my_string[2]"
   ]
  },
  {
   "cell_type": "code",
   "execution_count": null,
   "metadata": {},
   "outputs": [],
   "source": [
    "# This gets our letter 'K'\n",
    "\n",
    "# આપણો અક્ષર 'K' મળે છે\n",
    "\n",
    "'Kobe'[0]"
   ]
  },
  {
   "cell_type": "code",
   "execution_count": null,
   "metadata": {},
   "outputs": [],
   "source": [
    "'Kobe'[2]"
   ]
  },
  {
   "cell_type": "code",
   "execution_count": null,
   "metadata": {},
   "outputs": [],
   "source": [
    "'Kobe'[3]"
   ]
  },
  {
   "cell_type": "markdown",
   "metadata": {},
   "source": [
    "## More Indexing: \n",
    "## વધુ અનુક્રમણિકા:\n",
    "\n",
    "<br>\n",
    "\n",
    "You can also take out slices from your advanced data type or string by using the ```:```. \n",
    "\n",
    "તમે ```:``` નો ઉપયોગ કરીને તમારા એડવાનસ ડેટા પ્રકાર અથવા સ્ટ્રિંગમાંથી ભાગ પણ લઈ શકો છો.\n",
    "\n",
    "<br>\n",
    "\n",
    "Say you have a string ```'Milan'``` and you want the first three letters from the string. \n",
    "\n",
    "કહો કે તમારી પાસે સ્ટ્રિંગ ```'Milan'``` છે અને તમારે સ્ટ્રિંગમાંથી પહેલા ત્રણ અક્ષરો જોઈએ છે.\n",
    "\n",
    "<br>\n",
    "\n",
    "You can write ```'Milan'[0:3]``` to get the first three elements. \n",
    "\n",
    "પ્રથમ ત્રણ તત્વો મેળવવા માટે તમે ```'Milan'[0:3]``` લખી શકો છો.\n",
    "\n",
    "<br>\n",
    "\n",
    "Try it out: \n",
    "\n",
    "તેનો પ્રયાસ કરો:"
   ]
  },
  {
   "cell_type": "code",
   "execution_count": null,
   "metadata": {},
   "outputs": [],
   "source": [
    "'Milan'[0:3]"
   ]
  },
  {
   "cell_type": "code",
   "execution_count": null,
   "metadata": {},
   "outputs": [],
   "source": [
    "# Lonzo's nickname is zo\n",
    "\n",
    "'Lonzo'[3:5]\n",
    "\n",
    "# 3 is included\n",
    "# 5 is excluded \n",
    "\n",
    "# 3 નો સમાવેશ થાય છે\n",
    "# 5 બાકાત છે\n",
    "\n",
    "\n",
    "# the first number is always included (inclusive)\n",
    "# the second number is not included (exclusive)\n",
    "\n",
    "# પ્રથમ નંબર હંમેશા શામેલ છે (શામેલ)\n",
    "# બીજેા નંબર શામેલ નથી (બાકાત)"
   ]
  },
  {
   "cell_type": "code",
   "execution_count": null,
   "metadata": {},
   "outputs": [],
   "source": [
    "# To get 'on' from 'Lonzo':\n",
    "\n",
    "# 'Lonzo' થી 'on' મેળવવા માટે:\n",
    "\n",
    "'Lonzo'[1:3]\n",
    "\n",
    "\n",
    "# index for just o: 1\n",
    "# index for just n: 2\n",
    "\n",
    "# ફક્ત o માટે અનુક્રમણિકા: 1\n",
    "# ફક્ત n માટે અનુક્રમણિકા: 2"
   ]
  },
  {
   "cell_type": "code",
   "execution_count": null,
   "metadata": {},
   "outputs": [],
   "source": [
    "# To get 'Lon':\n",
    "\n",
    "# 'Lon' મેળવવા માટે:\n",
    "\n",
    "'Lonzo'[:3]\n",
    "\n",
    "\n",
    "# Takeaway: no specification of starting location, defaults to the beginning\n",
    "\n",
    "# પ્રારંભિક સ્થાન વિશે કોઈ સ્પષ્ટીકરણ નથી, શરૂઆતથી ડિફોલ્ટ છે"
   ]
  },
  {
   "cell_type": "code",
   "execution_count": null,
   "metadata": {},
   "outputs": [],
   "source": [
    "# To get 'onzo'\n",
    "\n",
    "# 'onzo' મેળવવા માટે:\n",
    "\n",
    "'Lonzo'[1:]\n",
    "\n",
    "\n",
    "# Takeaway: no specification of ending location, defaults to ending\n",
    "\n",
    "# અંત સ્થાનનું કોઈ સ્પષ્ટીકરણ, અંતમાં ડિફોલ્ટ્સ"
   ]
  },
  {
   "cell_type": "code",
   "execution_count": null,
   "metadata": {},
   "outputs": [],
   "source": [
    "'Lonzo'[:]\n",
    "\n",
    "# This defaults to the start and the end, which is everything\n",
    "\n",
    "# આ શરૂઆત અને અંત તરફ ડિફોલ્ટ છે, જે બધું છે"
   ]
  },
  {
   "cell_type": "code",
   "execution_count": null,
   "metadata": {},
   "outputs": [],
   "source": [
    "'Lonzo'[-2]"
   ]
  },
  {
   "cell_type": "code",
   "execution_count": null,
   "metadata": {},
   "outputs": [],
   "source": [
    "# Using -1 gives the last letter\n",
    "# Using -2 gives the second to last letter\n",
    "# .....\n",
    "\n",
    "# -1 નો ઉપયોગ કરીને છેલ્લો અક્ષર મળે છે\n",
    "# -2 નો ઉપયોગ કરીને બીજાને છેલ્લો અક્ષર મળે છે\n",
    "# ....."
   ]
  },
  {
   "cell_type": "code",
   "execution_count": null,
   "metadata": {},
   "outputs": [],
   "source": [
    "# To get specific letters that are NOT next to eachother:\n",
    "\n",
    "# વિશિષ્ટ અક્ષર મેળવવા માટે કે જે દરેકની આગળ ન હોય:\n",
    "\n",
    "'Lonzo'[0] + 'Lonzo'[3]"
   ]
  },
  {
   "cell_type": "code",
   "execution_count": null,
   "metadata": {},
   "outputs": [],
   "source": [
    "d2 = [[1, 2, 3],\n",
    "    [4, 5, 6], [7, 8, 9]]"
   ]
  },
  {
   "cell_type": "code",
   "execution_count": null,
   "metadata": {},
   "outputs": [],
   "source": [
    "d2[0][2]"
   ]
  },
  {
   "cell_type": "markdown",
   "metadata": {},
   "source": [
    "Let's understand what happened there: \n",
    "\n",
    "ચાલો સમજીએ કે ત્યાં શું થયું:\n",
    "\n",
    "<br>\n",
    "\n",
    "- The number before the ```:``` is the location where you want to start your slice. \n",
    "- The number after the ```:``` represents the location that is right after the point where you want to end your slice. \n",
    "\n",
    "\n",
    "- ```:``` પહેલાનો નંબર તે સ્થાન છે જ્યાં તમે તમારી સ્લાઈસ શરૂ કરવા માંગો છો.\n",
    "- ```:``` પછીની સંખ્યા તે સ્થાનનું પ્રતિનિધિત્વ કરે છે જે તે બિંદુ પછી યોગ્ય છે જ્યાં તમે તમારી સ્લાઈસને સમાપ્ત કરવા માંગો છો\n",
    "\n",
    "<br>\n",
    "\n",
    "For example, in the string ```'Milan'```, the first three letters are located at indexes ```0```, ```1```, ```2```. \n",
    "\n",
    "ઉદાહરણ તરીકે, સિટૃગ્સ ```'Milan'``` માં, પ્રથમ ત્રણ અક્ષરો અનુક્રમણિકા ```0```,```1```, ```2``` પર સ્થિત છે.\n",
    "\n",
    "<br>\n",
    "\n",
    "However, we need to write ```[0:3]``` if we want to extract the first three letters. This means that the number after the ```:``` is not inclusive (we do not include the letter at that location in our slice). \n",
    "\n",
    "જો કે, જો આપણે પ્રથમ ત્રણ અક્ષરો કાઢવાા માંગતા હોય તો ```[0:3]``` લખવાની જરૂર છે. આનો અર્થ એ છે કે ```:``` પછીની સંખ્યા શામેલ નથી (અમે તે સ્થાન પરનો અક્ષર અમારી સ્લાઈસમાં શામેલ નથી)."
   ]
  },
  {
   "cell_type": "code",
   "execution_count": null,
   "metadata": {},
   "outputs": [],
   "source": [
    "# This will get you the first four letters: \n",
    "\n",
    "# આ તમને પ્રથમ ચાર અક્ષરો મળશે:\n",
    "\n",
    "'Milan'[0:4]"
   ]
  },
  {
   "cell_type": "code",
   "execution_count": null,
   "metadata": {},
   "outputs": [],
   "source": [
    "# If you don't specify a starting location, it will default to the first letter:\n",
    "\n",
    "# જો તમે પ્રારંભિક સ્થાનનો ઉલ્લેખ કરતા નથી, તો તે પહેલા અક્ષર પર ડિફોલ્ટ થશે:\n",
    "\n",
    "'Milan'[:3]"
   ]
  },
  {
   "cell_type": "code",
   "execution_count": null,
   "metadata": {},
   "outputs": [],
   "source": [
    "# If you don't specify an ending location, it will include everything after the starting point:\n",
    "\n",
    "# જો તમે અંતિમ સ્થાન નિર્દિષ્ટ ન કરો, તો તેમાં પ્રારંભિક બિંદુ પછીની દરેક વસ્તુ શામેલ હશે:\n",
    "\n",
    "'Milan'[2:]"
   ]
  },
  {
   "cell_type": "code",
   "execution_count": null,
   "metadata": {},
   "outputs": [],
   "source": [
    "# If you don't specify an ending or starting location, the entire string is returned:\n",
    "\n",
    "# જો તમે અંત અથવા પ્રારંભિક સ્થાનનો ઉલ્લેખ ન કરો તો, આખા સિટૃગ્સ પાછા આપશે:\n",
    "\n",
    "'Milan'[:]"
   ]
  },
  {
   "cell_type": "markdown",
   "metadata": {},
   "source": [
    "#### Important Rule:\n",
    "#### મહત્વપૂર્ણ નિયમ:\n",
    "\n",
    "<br>\n",
    "\n",
    "The key thing to remember is that the **number before the ```:``` is inclusive** and the **number after the ```:``` is not inclusive.**\n",
    "\n",
    "યાદ રાખવાની મુખ્ય વાત એ છે કે **```:``` પહેલા નંબર સમાવિષ્ટ** છે અને ** ```:``` પછીની સંખ્યા શામેલ નથી.**"
   ]
  },
  {
   "cell_type": "markdown",
   "metadata": {},
   "source": [
    "### Slicing with Lists:\n",
    "### લીસટ સાથે સ્લાઈસ કરવા:\n",
    "\n",
    "<br>\n",
    "\n",
    "You can slice similarly with arrays and lists:\n",
    "\n",
    "તમે એરે અને લીસટ સાથે સમાન સ્લાઈસ કરી શકો છો:"
   ]
  },
  {
   "cell_type": "code",
   "execution_count": null,
   "metadata": {},
   "outputs": [],
   "source": [
    "the_first_five_ints[0:2]"
   ]
  },
  {
   "cell_type": "code",
   "execution_count": null,
   "metadata": {},
   "outputs": [],
   "source": [
    "the_first_five_ints[2:]"
   ]
  },
  {
   "cell_type": "markdown",
   "metadata": {},
   "source": [
    "# Recap \n",
    "# સારાંશ "
   ]
  },
  {
   "cell_type": "markdown",
   "metadata": {},
   "source": [
    "**Lists** <br>\n",
    "**લીસટ**\n",
    "\n",
    "<br>\n",
    "\n",
    "- A collection of items, use brackets ```[]``` and separate the values with commas\n",
    "- Add values by using **.append(value_name)** or ```+```, remove values using **.remove(value_name)**\n",
    "<br>\n",
    "<br>\n",
    "- વસ્તુઓનો સંગ્રહ, ```[]``` નો ઉપયોગ કરો અને અલ્પવિરામથી મૂલ્યોને અલગ કરો\n",
    "- **.append(value_name)** અથવા ```+``` નો ઉપયોગ કરીને કિંમતો ઉમેરો. **.remove(value_name)** નો ઉપયોગ કરીને મૂલ્યોને દૂર કરો\n",
    "\n",
    "<br>\n",
    "\n",
    "ex: \n",
    "num_list = [1, 2, 3, 4, 5] <br>\n",
    "num_list.append(6) or num_list += [7, 8, 9] <br>\n",
    "num_list.remove(1)\n",
    " \n",
    "<br>\n",
    " \n",
    "**Indexing** <br>\n",
    "**અનુક્રમણિકા**\n",
    "\n",
    "<br>\n",
    "\n",
    "- This is used to extract individual elements. Indexing starts at 0.\n",
    "- Place brackets ```[]``` after the variable that you want to access the individual elements from, then specify the location of those elements \n",
    "- The number before the ```:``` is inclusive and the number after the ```:``` is exclusive\n",
    "<br>\n",
    "<br>\n",
    "- આનો ઉપયોગ વ્યક્તિગત તત્વોને બહાર કાઢવાા માટે થાય છે. અનુક્રમણિકા 0 થી પ્રારંભ થાય છે.\n",
    "- વેરીએબલ પછી ```[]``` મૂકો જે તમે વ્યક્તિગત તત્વોમાંથી મેળવવા માંગો છો, પછી તે તત્વોનું સ્થાન નિર્દિષ્ટ કરો\n",
    "- ```:``` પહેલાંની સંખ્યા સમાવિષ્ટ છે અને ```:``` પછીની સંખ્યા સમાવિષ્ટ નથી.\n",
    "\n",
    "<br>\n",
    "\n",
    "ex: \n",
    "\"data science\"[0] -----> d\n",
    "\"data science\"[0:4] -----> data"
   ]
  },
  {
   "cell_type": "markdown",
   "metadata": {},
   "source": [
    "# End\n",
    "# સમાપ્ત\n",
    "\n",
    "<br>\n",
    "\n",
    "That's it for now with this basic data type notebook. \n",
    "\n",
    "હમણાં માટે અમે આ ડેટા ટાઇપ નોટબુક સાથે પૂર્ણ કર્યું છે.\n",
    "\n",
    "<br>\n",
    "\n",
    "Feel free to mess around with and solidify your understandings with code cells! \n",
    "\n",
    "પ્રેક્ટિસ કરો અને કોડ સેલ્સથી તમારી સમજણને મજબૂત બનાવો!\n",
    "\n",
    "<br>\n",
    "\n",
    "See you for the next notebook!\n",
    "\n",
    "હવે પછીની નોટબુક માટે મળીશું!"
   ]
  },
  {
   "cell_type": "markdown",
   "metadata": {},
   "source": [
    "### About this notebook: \n",
    "#### Developed by:\n",
    "* [Milan Butani](https://www.linkedin.com/in/milanbutani/) \n",
    "* [Kyra Yee](https://www.linkedin.com/in/kyrayee/)\n",
    "* [Colin Yee](https://www.linkedin.com/in/colin-yee-b724141ab/)\n",
    "* [Bernice Lau](https://www.linkedin.com/in/bernicelau430/)\n",
    "* [Francis Gonzales](https://www.linkedin.com/in/francis--gonzales/)\n",
    "\n",
    "#### Edits and Translations by:\n",
    "* [Neera Butani](https://www.linkedin.com/in/neera-butani-9019891b1/)\n",
    "\n",
    "#### Connect with us:\n",
    "<a href='https://www.linkedin.com/company/lanlearning/'> <img src=https://img.icons8.com/color/48/000000/linkedin.png width=\"48\" height=\"48\" align=\"left\"/></a>\n",
    "\n",
    "<a href='http://www.instagram.com/lanlearning'> <img src=https://img.icons8.com/fluent/48/000000/instagram-new.png width=\"48\" height=\"48\" align=\"left\"/></a>\n",
    "\n",
    "<a href='https://www.youtube.com/channel/UC5_yxU9pz4ka7xITJMxO5WA'> <img src=https://img.icons8.com/color/48/000000/youtube-squared.png width=\"48\" height=\"48\" align=\"left\"/></a>\n",
    "\n",
    "<a href='https://www.github.com/lanlearning/'> <img src=https://img.icons8.com/material-rounded/48/000000/github.png/ width=\"48\" height=\"48\" align=\"left\"/></a>"
   ]
  },
  {
   "cell_type": "code",
   "execution_count": null,
   "metadata": {},
   "outputs": [],
   "source": []
  }
 ],
 "metadata": {
  "kernelspec": {
   "display_name": "Python 3",
   "language": "python",
   "name": "python3"
  },
  "language_info": {
   "codemirror_mode": {
    "name": "ipython",
    "version": 3
   },
   "file_extension": ".py",
   "mimetype": "text/x-python",
   "name": "python",
   "nbconvert_exporter": "python",
   "pygments_lexer": "ipython3",
   "version": "3.8.2"
  }
 },
 "nbformat": 4,
 "nbformat_minor": 4
}
