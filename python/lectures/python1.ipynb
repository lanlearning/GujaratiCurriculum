{
 "cells": [
  {
   "cell_type": "markdown",
   "metadata": {},
   "source": [
    "___\n",
    "\n",
    "<a href='https://www.instagram.com/lanlearning/'> <img src='../pyimages/logosmall.png' width=\"100\" height=\"100\"/></a>\n",
    "___\n",
    "<center>Copyright LanLearning 2020</center>\n",
    "\n"
   ]
  },
  {
   "cell_type": "markdown",
   "metadata": {},
   "source": [
    "# Welcome everyone!\n",
    "# સ્વાગત છે!\n",
    "\n",
    "<br>\n",
    "\n",
    "This workbook is designed for you to learn the basics of Python. There will be a few workbooks like this one designed to help you learn Python in the following parts:\n",
    "\n",
    "- Part 1: Basic Data Types (which we are on right now)\n",
    "- Part 2: Advance Data Types\n",
    "- Part 3: Functions\n",
    "- Part 4: Python Processes\n",
    "- Part 5: NumPy\n",
    "\n",
    "\n",
    "This notebook will cover the basic data types that are a part of the Python language. \n",
    "\n",
    "<br>\n",
    "\n",
    "આ વર્કબુક તમને પાયથોનની મૂળ બાબતો શીખવા માટે બનાવવામાં આવી છે. નીચે આપેલા ભાગોમાં પાયથોન શીખવામાં તમારી સહાય માટે રચાયેલ આ જેવા કેટલાક વર્કબુક હશે:\n",
    "\n",
    "- ભાગ 1: મૂળ ડેટા પ્રકાર \n",
    "- ભાગ 2: એડવાન્સ ડેટા પ્રકાર\n",
    "- ભાગ 3: કાર્યો\n",
    "- ભાગ 4: પાયથોનની પ્રક્રિયાઓ\n",
    "- ભાગ 5: NumPy\n",
    "\n",
    "\n",
    "આ નોટબુક પાયથોન ભાષાનો ભાગ એવા મૂળભૂત ડેટા પ્રકારોને આવરી લેશે."
   ]
  },
  {
   "cell_type": "markdown",
   "metadata": {},
   "source": [
    "## Getting Started\n",
    "## ચાલો શરૂ કરીએ\n",
    "\n",
    "<br>\n",
    "\n",
    "Whenever you're taught a programming language, you are always taught how to print ```'Hello World!'```. \n",
    "\n",
    "While this is definitely a great way to start and get students excited, I believe there is a lot that needs to be taught before being able to make the computer say ```'Hello World!'```. \n",
    "\n",
    "For this reason, we will start with data types. \n",
    "\n",
    "<br>\n",
    "\n",
    "જ્યારે પણ તમને પ્રોગ્રામિંગ ભાષા શીખવવામાં આવે, ત્યારે તમને હંમેશા ```'Hello World!'``` કેવી રીતે છાપવા તે શીખવવામાં આવે છે.\n",
    "\n",
    "પ્રારંભ કરવાનો આ એક સારો રસ્તો હોઈ શકે છે, પરંતુ મારું માનવું છે કે કમ્પ્યુટર ```'Hello World!'``` કહેવા માટે સક્ષમ થવા પહેલાં ઘણું બધું શીખવવાની જરૂર છે.\n",
    "\n",
    "આ કારણોસર, અમે ડેટા પ્રકારોથી પ્રારંભ કરીશું."
   ]
  },
  {
   "cell_type": "code",
   "execution_count": 1,
   "metadata": {},
   "outputs": [
    {
     "name": "stdout",
     "output_type": "stream",
     "text": [
      "Hello World!\n"
     ]
    }
   ],
   "source": [
    "print('Hello World!')"
   ]
  },
  {
   "cell_type": "markdown",
   "metadata": {},
   "source": [
    "## How to add comments to code cells:\n",
    "## કોડ સેલ પર ટિપ્પણીઓ કેવી રીતે ઉમેરવી:\n",
    "\n",
    "<br>\n",
    "<img src='../pyimages/comments.png' width=\"500\"/></a>\n",
    "<br>\n",
    "\n",
    "Before going into Python lessons, here's a way you can comment on code. \n",
    "\n",
    "Commenting on code is important to leave important messages and tips for the person reading your code. \n",
    "\n",
    "To add a comment, write a hashtag ```#``` sign followed by whatever comment you want after it. Comments will always be in a greenish-blue color. \n",
    "\n",
    "<br>\n",
    "\n",
    "પાયથોન પાઠમાં જતા પહેલાં, અહીં એક રીત છે કે તમે કોડ પર ટિપ્પણી કરી શકો છો.\n",
    "\n",
    "તમારો કોડ વાંચતા વ્યક્તિ માટે મહત્વપૂર્ણ સંદેશાઓ અને ટીપ્સ આપવા માટે કોડ પર ટિપ્પણી કરવી મહત્વપૂર્ણ છે.\n",
    "\n",
    "કોઈ ટિપ્પણી ઉમેરવા માટે, તમારે ગમે તે ટિપ્પણી પછી ઇચ્છો તે પછી, એક હેશટેગ ```#``` સાઇન લખો. ટિપ્પણીઓ હંમેશા લીલોતરી વાદળી રંગની રહેશે."
   ]
  },
  {
   "cell_type": "code",
   "execution_count": null,
   "metadata": {},
   "outputs": [],
   "source": [
    "# This is a comment\n",
    "\n",
    "# આ એક ટિપ્પણી છે"
   ]
  },
  {
   "cell_type": "code",
   "execution_count": 1,
   "metadata": {},
   "outputs": [],
   "source": [
    "# This is another comment \n",
    "\n",
    "# આ બીજી ટિપ્પણી છે"
   ]
  },
  {
   "cell_type": "markdown",
   "metadata": {},
   "source": [
    "## Basic Data Types:\n",
    "## ડેટા પ્રકાર:\n",
    "\n",
    "<br>\n",
    "\n",
    "To introduce data types, think of the different things you can write in English, or any other language you use in your daily life. \n",
    "\n",
    "ડેટા પ્રકારોનો પરિચય આપવા માટે, તમે અંગ્રેજીમાં લખી શકો છો તે જુદી જુદી વસ્તુઓ, અથવા તમે તમારા દૈનિક જીવનમાં ઉપયોગમાં આવતી કોઈપણ અન્ય ભાષા વિશે વિચારો.\n",
    "\n",
    "<br>\n",
    "\n",
    "In English you are able to write **words**, **letters**, **numbers**, **decimal numbers**, and more. Each of those are important, different pieces in the English language.\n",
    "\n",
    "અંગ્રેજીમાં તમે **શબ્દો**, **અક્ષરો**, **નંબરો**, **દશાંશ સંખ્યા**, અને વધુ લખવા માટે સક્ષમ છો. તેમાંથી દરેક મહત્વપૂર્ણ છે, અંગ્રેજી ભાષાના જુદા જુદા ટુકડાઓ.\n",
    "\n",
    "<br>\n",
    "\n",
    "So similar to English, Python has its data types. Each data type serves a purpose and is important to whatever work you do with data types.\n",
    "\n",
    "અંગ્રેજી જેવી જ, પાયથોનમાં તેના ડેટા પ્રકારો છે. દરેક ડેટા પ્રકાર હેતુ પ્રદાન કરે છે અને તમે ડેટા પ્રકારો સાથે જે પણ કાર્ય કરો છો તેના માટે મહત્વપૂર્ણ છે.\n",
    "\n",
    "<br>\n",
    "\n",
    "Here are the various data types in Python: \n",
    "\n",
    "અહીં અજગરના વિવિધ ડેટા પ્રકારો છે:\n",
    "\n",
    "\n",
    "## Strings: \n",
    "## સ્ટ્રિંગ્સ:\n",
    "\n",
    "<br>\n",
    "<img src='../pyimages/str.jpg' width=\"500\"/></a>\n",
    "<br>\n",
    "\n",
    "Strings are words in the Python language. Strings can be of any length, and can contain more than one word. \n",
    "- Strings can be identified by single quotation marks appearing at each end of the string.\n",
    "- For example, ```'Hi, my name is Milan'``` is a string; in this case, it is a sentence with 5 words. Notice the ```'``` at each ends of the string\n",
    "- Anything that is within two ```' '``` is a string. For example, ```'2'``` is a string where the word here is the number 2. \n",
    "<br>\n",
    "\n",
    "સ્ટ્રિંગ્સ શબ્દ પાયથોન ભાષામાં છે. સ્ટ્રિંગ્સ કોઈપણ લંબાઈની હોઈ શકે છે, અને તેમાં એક કરતા વધુ શબ્દો હોઈ શકે છે. \n",
    "- સ્ટ્રિંગ્સને શબ્દમાળાના દરેક છેડે દેખાતા એક અવતરણ ગુણ દ્વારા ઓળખી શકાય છે.\n",
    "- ઉદાહરણ તરીકે, ```'Hi, my name is Milan'``` એ એક શબ્દમાળા છે; આ કિસ્સામાં, તે 5 શબ્દો સાથેનું એક વાક્ય છે. શબ્દમાળાના દરેક છેડે ```'``` છે.\n",
    "\n",
    "<br>\n",
    "\n",
    "In a code cell below, we write a string:\n",
    "\n",
    "નીચે આપેલા કોડ સેલમાં, અમે સ્ટ્રિંગ્ગ્ લખીએ છીએ:"
   ]
  },
  {
   "cell_type": "code",
   "execution_count": 5,
   "metadata": {},
   "outputs": [
    {
     "data": {
      "text/plain": [
       "'Hi, my name is Milan'"
      ]
     },
     "execution_count": 5,
     "metadata": {},
     "output_type": "execute_result"
    }
   ],
   "source": [
    "'Hi, my name is Milan'"
   ]
  },
  {
   "cell_type": "code",
   "execution_count": null,
   "metadata": {},
   "outputs": [],
   "source": [
    "'This is a string.'"
   ]
  },
  {
   "cell_type": "code",
   "execution_count": null,
   "metadata": {},
   "outputs": [],
   "source": [
    "'This is string number 2, which has a number in it.'"
   ]
  },
  {
   "cell_type": "markdown",
   "metadata": {},
   "source": [
    "Strings can also be written using double quotes:\n",
    "\n",
    "ડબલ અવતરણોનો ઉપયોગ કરીને સ્ટ્રિંગ્સ પણ લખી શકાય છે:"
   ]
  },
  {
   "cell_type": "code",
   "execution_count": 2,
   "metadata": {},
   "outputs": [
    {
     "data": {
      "text/plain": [
       "'This is a string.'"
      ]
     },
     "execution_count": 2,
     "metadata": {},
     "output_type": "execute_result"
    }
   ],
   "source": [
    "\"This is a string.\""
   ]
  },
  {
   "cell_type": "markdown",
   "metadata": {},
   "source": [
    "Strings are not limited by language! Here is a string in Gujarati!\n",
    "\n",
    "સ્ટ્રિંગ્સ ભાષા દ્વારા મર્યાદિત નથી! અહીં ગુજરાતીમાં એક સ્ટ્રિંગ્ગ્ છે!"
   ]
  },
  {
   "cell_type": "code",
   "execution_count": 1,
   "metadata": {},
   "outputs": [
    {
     "data": {
      "text/plain": [
       "'હેલો વર્લ્ડ'"
      ]
     },
     "execution_count": 1,
     "metadata": {},
     "output_type": "execute_result"
    }
   ],
   "source": [
    "'હેલો વર્લ્ડ'"
   ]
  },
  {
   "cell_type": "markdown",
   "metadata": {},
   "source": [
    "Double quotes can be useful if you want to make use of the single quote within your string. \n",
    "\n",
    "જો તમે તમારા સ્ટ્રિંગ્ગ્ અંતર્ગત સિંગલ ક્વોટનો ઉપયોગ કરવા માંગતા હો, તો ડબલ અવતરણો ઉપયોગી થઈ શકે છે."
   ]
  },
  {
   "cell_type": "code",
   "execution_count": null,
   "metadata": {},
   "outputs": [],
   "source": [
    "# Running this cell will cause an error, so don't run it, just take a look at it\n",
    "\n",
    "# આ સેલ ચલાવવાથી એક ભૂલ પેદા થશે, તેથી તેને ચલાવો નહીં, ફક્ત તેના પર એક નજર નાખો\n",
    "\n",
    "\"I'm learning Python today!\"\n",
    "\n",
    "\n",
    "# If you used single quotes at the ends, this would cut the string like so:\n",
    "\n",
    "# જો તમે અંતમાં એક અવતરણો વાપરો, તો આ સ્ટ્રિંગ્ગ્ કાપી નાખશે:\n",
    "\n",
    "'I'm learning Python today!'\n",
    "\n",
    "\n",
    "# This is what causes the error when you run the cell. \n",
    "\n",
    "# જ્યારે તમે સેલ ચલાવો ત્યારે આ ભૂલનું કારણ બને છે.\n",
    "\n",
    "\n",
    "# The code that is not in red is not part of the string and the computer doesn't know what to do with it.\n",
    "\n",
    "# કોડ કે જે લાલ નથી તે સ્ટ્રિંગનો ભાગ નથી અને કમ્પ્યુટર તેની સાથે શું કરવું તે જાણતું નથી.\n",
    "\n",
    "\n",
    "# How can we fix it?\n",
    "\n",
    "#આપણે તેને કેવી રીતે ઠીક કરી શકીએ?"
   ]
  },
  {
   "cell_type": "code",
   "execution_count": 1,
   "metadata": {},
   "outputs": [
    {
     "data": {
      "text/plain": [
       "\"I'm learning Python today!\""
      ]
     },
     "execution_count": 1,
     "metadata": {},
     "output_type": "execute_result"
    }
   ],
   "source": [
    "# If you still want to use single quote, just put a ' \\ ' before the intended apostrophe:\n",
    "\n",
    "# જો તમે હજી પણ સિંગલ ક્વોટનો ઉપયોગ કરવા માંગતા હો apostrophe (') પહેલાં ' \\ ' મૂકો:\n",
    "\n",
    "'I\\'m learning Python today!'\n",
    "\n",
    "\n",
    "# ' \\ ' also works if you want double quotes in your string.\n",
    "\n",
    "# જો તમને તમારા સિટૃગ્ગ્ ડબલ અવતરણ જોઈએ તો ' \\ ' પણ કાર્ય કરે છે. "
   ]
  },
  {
   "cell_type": "code",
   "execution_count": 9,
   "metadata": {},
   "outputs": [
    {
     "data": {
      "text/plain": [
       "\"Tony's cat jumped\""
      ]
     },
     "execution_count": 9,
     "metadata": {},
     "output_type": "execute_result"
    }
   ],
   "source": [
    "# I want to write a string that reads \"Tony's cat jumped!\"\n",
    "\n",
    "# હું એક સિટૃગ્ગ્ લખવા માંગુ છું જે \"Tony's cat jumped!\" વાંચે છે.\n",
    "\n",
    "\"Tony's cat jumped\""
   ]
  },
  {
   "cell_type": "markdown",
   "metadata": {},
   "source": [
    "## Integers: \n",
    "## પૂર્ણાંકો:\n",
    "\n",
    "<br>\n",
    "\n",
    "Integers are numbers in the Python language. \n",
    "- Integers are usually in green color and can be simply written in. \n",
    "- Good for when you don't need to worry about fractions. For example 1st, 2nd, or 3rd place.\n",
    "<br>\n",
    "\n",
    "પૂર્ણાંકો એ પાયથોન ભાષામાં સંખ્યાઓ છે.\n",
    "- પૂર્ણાંકો સામાન્ય રીતે લીલા રંગમાં હોય છે અને તે ફક્ત લખી શકાય છે.\n",
    "- જ્યારે તમને અપૂર્ણાંકો વિશે ચિંતા કરવાની જરૂર ન હોય ત્યારે માટે સારું. ઉદાહરણ તરીકે 1 લી, 2 જી અથવા 3 જી સ્થાન.\n",
    "\n",
    "<br>\n",
    "\n",
    "In a code cell below, we write the integer ```2```:\n",
    "\n",
    "નીચે આપેલા કોડ સેલમાં, આપણે પૂર્ણાંક ```2``` લખીએ છીએ:"
   ]
  },
  {
   "cell_type": "code",
   "execution_count": null,
   "metadata": {},
   "outputs": [],
   "source": [
    "2"
   ]
  },
  {
   "cell_type": "markdown",
   "metadata": {},
   "source": [
    "## Float: \n",
    "## ફ્લોટ:\n",
    "\n",
    "\n",
    "<br>\n",
    "<img src='../pyimages/float.jpeg' width=\"500\"/></a>\n",
    "<center>Photo by: Dave Jacobs</center>\n",
    "<center>source: https://www.miaminewtimes.com/news/alligator-spotted-on-alligator-pool-float-at-miami-airbnb-11177604</center>\n",
    "<br>\n",
    "\n",
    "A float is a decimal number in in the Python language. \n",
    "- Floats are usually in green color and can be simply written in. \n",
    "- Good for when you need fractions and decimal numbers. For exampe time or dollars.\n",
    "- They use more computer memory so it doesn't make sense to use a float for everything.\n",
    "\n",
    "પાયથોન ભાષામાં ફ્લોટ એ દશાંશ સંખ્યા છે.\n",
    "- ફ્લોટ્સ સામાન્ય રીતે લીલા રંગમાં હોય છે અને તેમાં સરળતાથી લખી શકાય છે.\n",
    "- જ્યારે તમને અપૂર્ણાંક અને દશાંશ સંખ્યાની જરૂર હોય ત્યારે માટે સારું. \n",
    "- તેઓ વધુ કમ્પ્યુટર મેમરીનો ઉપયોગ કરે છે તેથી દરેક વસ્તુ માટે ફ્લોટનો ઉપયોગ કરવાનો અર્થ નથી.\n",
    "\n",
    "<br>\n",
    "\n",
    "In a code cell below, we write the float ```0.2```:\n",
    "\n",
    "નીચે આપેલા કોડ સેલમાં, અમે ફ્લોટ ```0.2``` લખીએ છીએ:"
   ]
  },
  {
   "cell_type": "code",
   "execution_count": null,
   "metadata": {},
   "outputs": [],
   "source": [
    "0.2"
   ]
  },
  {
   "cell_type": "markdown",
   "metadata": {},
   "source": [
    "Any number with a decimal is a float: \n",
    "\n",
    "દશાંશ સાથેની કોઈપણ સંખ્યા ફ્લોટ છે:"
   ]
  },
  {
   "cell_type": "code",
   "execution_count": null,
   "metadata": {},
   "outputs": [],
   "source": [
    "2."
   ]
  },
  {
   "cell_type": "code",
   "execution_count": null,
   "metadata": {},
   "outputs": [],
   "source": [
    ".2"
   ]
  },
  {
   "cell_type": "code",
   "execution_count": null,
   "metadata": {},
   "outputs": [],
   "source": [
    ".0"
   ]
  },
  {
   "cell_type": "code",
   "execution_count": null,
   "metadata": {},
   "outputs": [],
   "source": [
    "0."
   ]
  },
  {
   "cell_type": "markdown",
   "metadata": {},
   "source": [
    "# Boolean: \n",
    "# બુલિયન:\n",
    "\n",
    "<br>\n",
    "\n",
    "The last basic data type in Python is a boolean. A boolean is a data type the represents ```True``` and ```False```.\n",
    "- Booleans could be written in, but are typically created by the computer. \n",
    "- Good for represnting things that can only be one or the other for example yes or no.\n",
    "```False``` can be represented as $0$, while ```True``` can be represented as any number besides $0$. \n",
    "<br>\n",
    "\n",
    "પાયથોનમાં છેલ્લો મૂળભૂત ડેટા પ્રકાર બુલિયન છે. બુલિયન એ એક ડેટા પ્રકાર છે જે ```True``` અને ```False``` રજૂ કરે છે.\n",
    "- બુલિયન લખી શકાય છે, પરંતુ સામાન્ય રીતે કમ્પ્યુટર દ્વારા બનાવવામાં આવે છે.\n",
    "- તે વસ્તુઓની પુનરાવર્તન માટે સારું જે ફક્ત એક અથવા બીજી હોઈ શકે, ઉદાહરણ તરીકે હા અથવા ના.\n",
    "```False``` ને $0$ તરીકે રજૂ કરી શકાય છે, જ્યારે ```True``` ને $0$ સિવાય કોઈપણ સંખ્યા તરીકે રજૂ કરી શકાય છે."
   ]
  },
  {
   "cell_type": "code",
   "execution_count": null,
   "metadata": {},
   "outputs": [],
   "source": [
    "True"
   ]
  },
  {
   "cell_type": "code",
   "execution_count": null,
   "metadata": {},
   "outputs": [],
   "source": [
    "False"
   ]
  },
  {
   "cell_type": "markdown",
   "metadata": {},
   "source": [
    "## Variable Assignment\n",
    "## વેરિયેબલ અસાઇન્મેન્ટ\n",
    "\n",
    "<br>\n",
    "\n",
    "These data types matter because of variable assignment. Variables store things for later use. Variable asignment is the process of creating variables and telling them what to store.\n",
    "\n",
    "\n",
    "આ ડેટા પ્રકારો વેરિયેબલ અસાઇન્મેન્ટ કારણે મહત્વ ધરાવે છે. વેરિયેબલ પછીના ઉપયોગ માટે વસ્તુઓ સ્ટોર કરે છે. વેરીએબલ એસાઈનમેન્ટ એ વેરિયેબલ્સ બનાવવાની અને તેમને સ્ટોર કરવાની રીત કહેવાની પ્રક્રિયા છે.\n",
    "\n",
    "<br>\n",
    "\n",
    "Variable assignment is really important in Python because all the work you will be doing in Python will be through variables. For example, you will be using variables to do Math in Python in some of the upcoming notebooks. \n",
    "\n",
    "\n",
    "પાયથોનમાં વેરીએબલ એસાઈનમેન્ટ ખરેખર મહત્વનું છે કારણ કે તમે પાયથોનમાં જે કાર્ય કરશે તે વેરિયેબલ દ્વારા કરવામાં આવશે. ઉદાહરણ તરીકે, તમે આવતી કેટલીક નોટબુકમાં પાયથોનમાં ગણિત કરવા માટે વેરિયેબલ ઉપયોગ કરી રહ્યાં છો.\n",
    "\n",
    "<br>\n",
    "\n",
    "There are three parts for variable assignment: \n",
    "- Part 1: You start with writing the variable name all the way to the left of the code line.\n",
    "- Part 2: After writing the variable name, type in the ```=``` sign. \n",
    "- Part 3: to the right of ```=``` write the data type you want to assign the variable to. \n",
    "\n",
    "\n",
    "વેરિયેબલ અસાઇન્મેન્ટ માટે ત્રણ ભાગો છે:\n",
    "- ભાગ 1: તમે કોડ લાઇનની ડાબી બાજુએ વેરિયેબલ નામ લખવાની શરૂઆત કરો.\n",
    "- ભાગ 2: વેરિયેબલ નામ લખ્યા પછી, ```=``` ચિહ્ન લખો.\n",
    "- ભાગ 3: the ```=``` ની જમણી બાજુએ ડેટા પ્રકાર લખો જે તમે વેરિયેબલ સોંપવા માંગો છો.\n",
    "\n",
    "<br>\n",
    "\n",
    "Let's assign 2 to a variable called ```x```:\n",
    "\n",
    "ચાલો 2 ```x``` નામના વેરિયેબલ સોંપીએ:"
   ]
  },
  {
   "cell_type": "code",
   "execution_count": 12,
   "metadata": {},
   "outputs": [],
   "source": [
    "# note that this is line 1, as shown by the number to the left\n",
    "\n",
    "# આ કોડ લાઇન 2 છે\n",
    "\n",
    "\n",
    "# first step for variable assignment is writing the name of variable\n",
    "# then write an equal sign (=) next to it\n",
    "# next assign the variable your data type\n",
    "\n",
    "# વેરીએબલ એસાઈનમેન્ટ માટેનું પ્રથમ પગલું વેરિયેબલ નામ લખવું છે\n",
    "# પછી તેની બાજુમાં સમાન ચિહ્ન (=) લખો\n",
    "# આગળ તમારા ડેટા પ્રકારને વેરીએબલ સોંપો\n",
    "\n",
    "x = 2"
   ]
  },
  {
   "cell_type": "markdown",
   "metadata": {},
   "source": [
    "Nothing was returned after writing in ```x = 2```, and that's how it is with variable assignment. <br>\n",
    "To see the value under the variable, simply **call** the variable by writing it in a code cell. \n",
    "\n",
    "```x = 2``` માં લખ્યા પછી કંઈપણ પાછું આવ્યું ન હતું, અને તે વેરિયેબલ અસાઇન્મેન્ટ સાથે આ રીતે છે. <br>\n",
    "વેરીએબલ હેઠળની કિંમત જોવા માટે, કોડ સેલમાં લખીને વેરીએબલ **call** કરો."
   ]
  },
  {
   "cell_type": "code",
   "execution_count": 13,
   "metadata": {},
   "outputs": [
    {
     "data": {
      "text/plain": [
       "2"
      ]
     },
     "execution_count": 13,
     "metadata": {},
     "output_type": "execute_result"
    }
   ],
   "source": [
    "x"
   ]
  },
  {
   "cell_type": "markdown",
   "metadata": {},
   "source": [
    "Now you should be able to see the value of your variable. \n",
    "\n",
    "હવે તમારે તમારા વેરીએબલની કિંમત જોવા માટે સમર્થ થવું જોઈએ."
   ]
  },
  {
   "cell_type": "code",
   "execution_count": 10,
   "metadata": {},
   "outputs": [],
   "source": [
    "variable_name = 'variable name'"
   ]
  },
  {
   "cell_type": "code",
   "execution_count": 11,
   "metadata": {},
   "outputs": [
    {
     "data": {
      "text/plain": [
       "'variable name'"
      ]
     },
     "execution_count": 11,
     "metadata": {},
     "output_type": "execute_result"
    }
   ],
   "source": [
    "variable_name"
   ]
  },
  {
   "cell_type": "code",
   "execution_count": null,
   "metadata": {},
   "outputs": [],
   "source": []
  },
  {
   "cell_type": "markdown",
   "metadata": {},
   "source": [
    "### Choosing a variable name: \n",
    "### વેરીએબલ નામ પસંદ કરી રહ્યા છીએ:\n",
    "\n",
    "<br>\n",
    "\n",
    "There are some important rules for choosing variable names:\n",
    "\n",
    "વેરીએબલ નામો પસંદ કરવા માટે કેટલાક મહત્વપૂર્ણ નિયમો છે:\n",
    "\n",
    "<br>\n",
    "<img src='../pyimages/elon.jpeg' width=\"500\"/></a>\n",
    "<center>source: Elon Musk, Twitter</center>\n",
    "<br>\n",
    "\n",
    "- Variables cannot start with a number or be a number. \n",
    "- Variable must begin with either a ```_``` or a letter.\n",
    "\n",
    "\n",
    "- વેરીએબલ કોઈ સંખ્યાથી પ્રારંભ કરી શકતા નથી અથવા સંખ્યામાં હોઈ શકતા નથી.\n",
    "- વેરિયેબલની શરૂઆત ```_``` અથવા અક્ષરથી થવી આવશ્યક છે.\n",
    "\n",
    "<br>\n",
    "\n",
    "**In the code cell below, try to see if you can assign a variable to a name that doesn't follow the rules above.**\n",
    "\n",
    "**નીચેના કોડ સેલમાં, જો તમે ઉપરના નિયમોનું પાલન ન કરતા હોય તેવા નામને વેરીએબલ સોંપી શકો કે નહીં તે જોવાનો પ્રયાસ કરો.**"
   ]
  },
  {
   "cell_type": "code",
   "execution_count": null,
   "metadata": {},
   "outputs": [],
   "source": []
  },
  {
   "cell_type": "code",
   "execution_count": 15,
   "metadata": {},
   "outputs": [],
   "source": [
    "_elons2 = '2 elons'"
   ]
  },
  {
   "cell_type": "code",
   "execution_count": 16,
   "metadata": {},
   "outputs": [
    {
     "data": {
      "text/plain": [
       "'2 elons'"
      ]
     },
     "execution_count": 16,
     "metadata": {},
     "output_type": "execute_result"
    }
   ],
   "source": [
    "_elons2"
   ]
  },
  {
   "cell_type": "code",
   "execution_count": 17,
   "metadata": {},
   "outputs": [],
   "source": [
    "my_name = 'cynthia'"
   ]
  },
  {
   "cell_type": "code",
   "execution_count": 18,
   "metadata": {},
   "outputs": [
    {
     "data": {
      "text/plain": [
       "'cynthia'"
      ]
     },
     "execution_count": 18,
     "metadata": {},
     "output_type": "execute_result"
    }
   ],
   "source": [
    "my_name"
   ]
  },
  {
   "cell_type": "markdown",
   "metadata": {},
   "source": [
    "You can assign a variable to a string, boolean, float, or integer. \n",
    "\n",
    "તમે સિટૃગ્ગ્, બુલિયન, ફ્લોટ અથવા પૂર્ણાંકો માટે વેરીએબલ સોંપી શકો છો."
   ]
  },
  {
   "cell_type": "code",
   "execution_count": 19,
   "metadata": {},
   "outputs": [
    {
     "data": {
      "text/plain": [
       "'string'"
      ]
     },
     "execution_count": 19,
     "metadata": {},
     "output_type": "execute_result"
    }
   ],
   "source": [
    "a = 'string'\n",
    "a"
   ]
  },
  {
   "cell_type": "code",
   "execution_count": 20,
   "metadata": {},
   "outputs": [
    {
     "data": {
      "text/plain": [
       "0.23"
      ]
     },
     "execution_count": 20,
     "metadata": {},
     "output_type": "execute_result"
    }
   ],
   "source": [
    "b = 0.23\n",
    "b"
   ]
  },
  {
   "cell_type": "code",
   "execution_count": 21,
   "metadata": {},
   "outputs": [
    {
     "data": {
      "text/plain": [
       "False"
      ]
     },
     "execution_count": 21,
     "metadata": {},
     "output_type": "execute_result"
    }
   ],
   "source": [
    "c = False\n",
    "c"
   ]
  },
  {
   "cell_type": "code",
   "execution_count": 22,
   "metadata": {},
   "outputs": [
    {
     "data": {
      "text/plain": [
       "23"
      ]
     },
     "execution_count": 22,
     "metadata": {},
     "output_type": "execute_result"
    }
   ],
   "source": [
    "d = 23\n",
    "d"
   ]
  },
  {
   "cell_type": "markdown",
   "metadata": {},
   "source": [
    "You can also make multiple assignments on the same line.\n",
    "\n",
    "તમે એક જ લાઇન પર બહુવિધ વેરિયેબલ અસાઇન્મેન્ટ પણ કરી શકો છો."
   ]
  },
  {
   "cell_type": "code",
   "execution_count": 23,
   "metadata": {},
   "outputs": [],
   "source": [
    "name, age = \"Chad\", 20"
   ]
  },
  {
   "cell_type": "code",
   "execution_count": 24,
   "metadata": {},
   "outputs": [
    {
     "data": {
      "text/plain": [
       "'Chad'"
      ]
     },
     "execution_count": 24,
     "metadata": {},
     "output_type": "execute_result"
    }
   ],
   "source": [
    "name"
   ]
  },
  {
   "cell_type": "code",
   "execution_count": 25,
   "metadata": {},
   "outputs": [
    {
     "data": {
      "text/plain": [
       "20"
      ]
     },
     "execution_count": 25,
     "metadata": {},
     "output_type": "execute_result"
    }
   ],
   "source": [
    "age"
   ]
  },
  {
   "cell_type": "markdown",
   "metadata": {},
   "source": [
    "## Checking and Changing Data Types:\n",
    "## ડેટાના પ્રકારોને તપાસી અને બદલવાનું:\n",
    "\n",
    "<br>\n",
    "\n",
    "To change and check data types, we need to use built-in functions provided by Python. \n",
    "\n",
    "ડેટા પ્રકારોને બદલવા અને તપાસવા માટે, આપણે પાયથોન દ્વારા પ્રદાન કરેલ બિલ્ટ-ઇન ફંક્શન્સનો ઉપયોગ કરવાની જરૂર છે.\n",
    "\n",
    "<br>\n",
    "\n",
    "Built-in functions are a topic of another notebook, but in short they are exactly what they sound like: a **built-in function** is a function that is defined within Python. \n",
    "\n",
    "બિલ્ટ-ઇન ફંક્શંસ એ બીજી નોટબુકનો વિષય છે, પરંતુ ટૂંકમાં તે તેઓ જેવું લાગે છે તે જ છે: **બિલ્ટ-ઇન ફંક્શન** એ એક ફંક્શન છે જે પાયથોનમાં વ્યાખ્યાયિત થયેલ છે.\n",
    "\n",
    "<br>\n",
    "\n",
    "To check the type of a variable, pass the variable in the function ```type()```. \n",
    "\n",
    "વેરીએબલ પ્રકાર તપાસવા માટે, ફંક્શન ```type()``` માં વેરીએબલને પાસ કરો.\n",
    "\n",
    "<br>\n",
    "\n",
    "To pass a variable function, simply write the variable name inside the ```()```. \n",
    "\n",
    "વેરિયેબલ ફંક્શન પસાર કરવા માટે, ```()``` ની અંદર ફક્ત વેરીએબલ નામ લખો."
   ]
  },
  {
   "cell_type": "code",
   "execution_count": 26,
   "metadata": {},
   "outputs": [
    {
     "data": {
      "text/plain": [
       "str"
      ]
     },
     "execution_count": 26,
     "metadata": {},
     "output_type": "execute_result"
    }
   ],
   "source": [
    "type(a) # I'm passing in 'a' into the function type()"
   ]
  },
  {
   "cell_type": "markdown",
   "metadata": {},
   "source": [
    "Notice that we defined ```a``` a few cells above.\n",
    "\n",
    "જુઓ કે આપણે કેવી રીતે ઉપર ```a``` થોડા સેલ વ્યાખ્યાયિત કર્યા છે.\n",
    "\n",
    "<br>\n",
    "\n",
    "We made ```a``` be the string ```'string'```, so when we called ```type()``` on it, it returns ```str```. \n",
    "\n",
    "અમે ```a``` ને સિટૃગ્ગ્ ```'string'``` બનાવ્યું, તેથી જ્યારે અમે તેના પર ```type()``` કહીએ, ત્યારે તે ```str``` આપે છે.\n",
    "\n",
    "<br>\n",
    "\n",
    "If your variable is a string, ```str``` will be returned. \n",
    "\n",
    "જો તમારું વેરીએબલ સિટૃગ્ગ્ છે, તો ```str``` પરત આવશે.\n",
    "\n",
    "<br>\n",
    "\n",
    "If your variable is an integer, ```int``` will be returned.\n",
    "\n",
    "જો તમારું વેરીએબલ પૂર્ણાંક છે, તો ```int``` પરત આવશે.\n",
    "\n",
    "<br>\n",
    "\n",
    "If your variable is a float, ```float``` will be returned. \n",
    "\n",
    "જો તમારું વેરીએબલ ફ્લોટ છે, તો ```float``` પરત આવશે.\n",
    "\n",
    "<br>\n",
    "\n",
    "If your variable is a boolean, ```bool``` will be returned. \n",
    "\n",
    "જો તમારું વેરીએબલ બુલિયન છે, તો ```bool``` પરત આવશે."
   ]
  },
  {
   "cell_type": "code",
   "execution_count": 27,
   "metadata": {},
   "outputs": [
    {
     "data": {
      "text/plain": [
       "str"
      ]
     },
     "execution_count": 27,
     "metadata": {},
     "output_type": "execute_result"
    }
   ],
   "source": [
    "# 'a' is a string\n",
    "type(a)"
   ]
  },
  {
   "cell_type": "code",
   "execution_count": 28,
   "metadata": {},
   "outputs": [
    {
     "data": {
      "text/plain": [
       "float"
      ]
     },
     "execution_count": 28,
     "metadata": {},
     "output_type": "execute_result"
    }
   ],
   "source": [
    "# 'b' is a float\n",
    "type(b)"
   ]
  },
  {
   "cell_type": "code",
   "execution_count": 29,
   "metadata": {},
   "outputs": [
    {
     "data": {
      "text/plain": [
       "bool"
      ]
     },
     "execution_count": 29,
     "metadata": {},
     "output_type": "execute_result"
    }
   ],
   "source": [
    "# 'c' is a boolean\n",
    "type(c)"
   ]
  },
  {
   "cell_type": "code",
   "execution_count": 30,
   "metadata": {},
   "outputs": [
    {
     "data": {
      "text/plain": [
       "int"
      ]
     },
     "execution_count": 30,
     "metadata": {},
     "output_type": "execute_result"
    }
   ],
   "source": [
    "# 'd' is an integer\n",
    "type(d)"
   ]
  },
  {
   "cell_type": "markdown",
   "metadata": {},
   "source": [
    "### Changing a data type:\n",
    "### ડેટા પ્રકાર બદલવાનું:\n",
    "\n",
    "<br>\n",
    "\n",
    "To change a data type, you will need to use the built-in functions:\n",
    "\n",
    "ડેટા પ્રકાર બદલવા માટે, તમારે બિલ્ટ-ઇન ફંક્શન્સનો ઉપયોગ કરવો પડશે:\n",
    "\n",
    "<br>\n",
    "\n",
    "Use ```str()``` to change something to a string.\n",
    "\n",
    " સ્ટ્રિંગ્સમાં કંઈક બદલવા માટે ```str()``` નો ઉપયોગ કરો.\n",
    "\n",
    "<br>\n",
    "\n",
    "Use ```int()``` to change something to an integer. \n",
    "\n",
    "પૂર્ણાંકમાં કંઈક બદલવા માટે ```int()``` નો ઉપયોગ કરો.\n",
    "\n",
    "<br>\n",
    "\n",
    "Use ```float()``` to change something to a float. \n",
    "\n",
    "ફ્લોટમાં કંઈક બદલવા માટે ```float()``` નો ઉપયોગ કરો.\n",
    "\n",
    "<br>\n",
    "\n",
    "Use ```bool()``` to change something to a boolean.\n",
    "\n",
    "બુલિયનમાં કંઈક બદલવા માટે ```bool()``` નો ઉપયોગ કરો."
   ]
  },
  {
   "cell_type": "code",
   "execution_count": 31,
   "metadata": {},
   "outputs": [
    {
     "data": {
      "text/plain": [
       "'2'"
      ]
     },
     "execution_count": 31,
     "metadata": {},
     "output_type": "execute_result"
    }
   ],
   "source": [
    "str(2)"
   ]
  },
  {
   "cell_type": "code",
   "execution_count": 32,
   "metadata": {},
   "outputs": [
    {
     "data": {
      "text/plain": [
       "2"
      ]
     },
     "execution_count": 32,
     "metadata": {},
     "output_type": "execute_result"
    }
   ],
   "source": [
    "int('2')"
   ]
  },
  {
   "cell_type": "code",
   "execution_count": 33,
   "metadata": {},
   "outputs": [
    {
     "data": {
      "text/plain": [
       "2.0"
      ]
     },
     "execution_count": 33,
     "metadata": {},
     "output_type": "execute_result"
    }
   ],
   "source": [
    "float(2)"
   ]
  },
  {
   "cell_type": "code",
   "execution_count": 35,
   "metadata": {},
   "outputs": [
    {
     "data": {
      "text/plain": [
       "2"
      ]
     },
     "execution_count": 35,
     "metadata": {},
     "output_type": "execute_result"
    }
   ],
   "source": [
    "int(2.9)"
   ]
  },
  {
   "cell_type": "code",
   "execution_count": 38,
   "metadata": {},
   "outputs": [
    {
     "data": {
      "text/plain": [
       "True"
      ]
     },
     "execution_count": 38,
     "metadata": {},
     "output_type": "execute_result"
    }
   ],
   "source": [
    "bool(-234)"
   ]
  },
  {
   "cell_type": "code",
   "execution_count": 39,
   "metadata": {},
   "outputs": [
    {
     "data": {
      "text/plain": [
       "1"
      ]
     },
     "execution_count": 39,
     "metadata": {},
     "output_type": "execute_result"
    }
   ],
   "source": [
    "int(True)"
   ]
  },
  {
   "cell_type": "code",
   "execution_count": 40,
   "metadata": {},
   "outputs": [
    {
     "data": {
      "text/plain": [
       "0"
      ]
     },
     "execution_count": 40,
     "metadata": {},
     "output_type": "execute_result"
    }
   ],
   "source": [
    "int(False)"
   ]
  },
  {
   "cell_type": "code",
   "execution_count": null,
   "metadata": {},
   "outputs": [],
   "source": [
    "# False is represented by 0"
   ]
  },
  {
   "cell_type": "code",
   "execution_count": 41,
   "metadata": {},
   "outputs": [
    {
     "data": {
      "text/plain": [
       "0.0"
      ]
     },
     "execution_count": 41,
     "metadata": {},
     "output_type": "execute_result"
    }
   ],
   "source": [
    "float(0)"
   ]
  },
  {
   "cell_type": "code",
   "execution_count": 42,
   "metadata": {},
   "outputs": [
    {
     "data": {
      "text/plain": [
       "0.0"
      ]
     },
     "execution_count": 42,
     "metadata": {},
     "output_type": "execute_result"
    }
   ],
   "source": [
    "float(False) # = float(0) "
   ]
  },
  {
   "cell_type": "code",
   "execution_count": 43,
   "metadata": {},
   "outputs": [
    {
     "data": {
      "text/plain": [
       "'True'"
      ]
     },
     "execution_count": 43,
     "metadata": {},
     "output_type": "execute_result"
    }
   ],
   "source": [
    "str(True) # = str(1)"
   ]
  },
  {
   "cell_type": "code",
   "execution_count": 44,
   "metadata": {},
   "outputs": [
    {
     "data": {
      "text/plain": [
       "False"
      ]
     },
     "execution_count": 44,
     "metadata": {},
     "output_type": "execute_result"
    }
   ],
   "source": [
    "# Below i'm am passing an empty string in bool, which returns false.\n",
    "\n",
    "# નીચે હું બુલમાં ખાલી સિટૃગ્ગ્ પસાર કરું છું, જે ખોટો વળતર આપે છે\n",
    "\n",
    "bool('')\n",
    "\n",
    "\n",
    "# Try putting something inside the string and see what happens.\n",
    "\n",
    "# સ્ટ્રિંગ્ગ્ અંદર કંઈક મૂકવાનો પ્રયત્ન કરો અને જુઓ શું થાય છે."
   ]
  },
  {
   "cell_type": "code",
   "execution_count": null,
   "metadata": {},
   "outputs": [],
   "source": []
  },
  {
   "cell_type": "code",
   "execution_count": 46,
   "metadata": {},
   "outputs": [
    {
     "data": {
      "text/plain": [
       "True"
      ]
     },
     "execution_count": 46,
     "metadata": {},
     "output_type": "execute_result"
    }
   ],
   "source": [
    "bool('name')"
   ]
  },
  {
   "cell_type": "code",
   "execution_count": 49,
   "metadata": {},
   "outputs": [
    {
     "data": {
      "text/plain": [
       "True"
      ]
     },
     "execution_count": 49,
     "metadata": {},
     "output_type": "execute_result"
    }
   ],
   "source": [
    "bool(int(11.67)) # = bool(12)\n",
    "\n",
    "# Try changing it to 0 and running this cell again to see what happens!\n",
    "\n",
    "# શું થાય છે તે જોવા માટે તેને 0 માં બદલીને આ સેલ ફરીથી ચલાવવાનો પ્રયાસ કરો!"
   ]
  },
  {
   "cell_type": "markdown",
   "metadata": {},
   "source": [
    "### Quick note about changing data types:\n",
    "### ડેટા પ્રકારોને બદલવા વિશે ઝડપી નોંધ:\n",
    "\n",
    "<br>\n",
    "\n",
    "#### When changing to strings: \n",
    "#### જ્યારે સ્ટ્રિંગ્સ બદલવા:\n",
    "\n",
    "<br>\n",
    "\n",
    "Pretty much anything can be changed to a string, so there's nothing to worry about here. \n",
    "\n",
    "મોટે ભાગે કંઈપણ એક સ્ટ્રિંગ્સ માં બદલી શકાય છે, તેથી અહીં ચિંતા કરવાનું કંઈ નથી.\n",
    "\n",
    "<br>\n",
    "\n",
    "#### When changing to an integer: \n",
    "#### પૂર્ણાંકમાં બદલાતી વખતે:\n",
    "\n",
    "<br>\n",
    "\n",
    "- A float will be rounded **down** to the nearest integer when passed to the ```int()``` function. \n",
    "- ```True``` will change to $1$ when passed through ```int()```, and ```False``` to $0$.\n",
    "- You can **only** pass in digits, floats, ```True```, and ```False``` through the ```int()``` function. Anything else will error! \n",
    "<br>\n",
    "<br>\n",
    "- જ્યારે ```int()``` ફંક્શનમાં પસાર થાય ત્યારે નજીકના પૂર્ણાંક પર **નીચે** ફ્લોટ ગોળાકાર કરવામાં આવશે.\n",
    "- ```int()``` જ્યારે પસાર થશે ત્યારે ```True```, $1$ માં બદલાઈ જશે, અને ```False``` થી $0$.\n",
    "- તમે **ફક્ત** ```int()``` ફંક્શન દ્વારા અંકો, ફ્લોટ્સ, ```True``` અને ```False``` માં પાસ કરી શકો છો. બીજું કંઈપણ ભૂલ કરશે!\n",
    "\n",
    "#### When changing to a float:\n",
    "#### જ્યારે ફ્લોટમાં બદલવું:\n",
    "\n",
    "<br>\n",
    "\n",
    "- You can only pass in numbers or booleans through a float. \n",
    "- When converted to a float...\n",
    "    - integer 5 will become ```5.0``` \n",
    "    - ```True``` will become ```1.0```\n",
    "    - ```False``` will become ```0.0```\n",
    "<br>\n",
    "<br>\n",
    "- તમે ફ્લોટ દ્વારા ફક્ત સંખ્યા અથવા બુલિયનમાં જ પસાર કરી શકો છો.\n",
    "    - પૂર્ણાંક 5 ```5.0``` બનશે\n",
    "    - ```True``` ```1.0``` બનશે\n",
    "    - ```False``` ```0.0``` બનશે\n",
    "\n",
    "#### When changing to a boolean: \n",
    "#### જ્યારે બુલિયનમાં બદલવું:\n",
    "\n",
    "<br>\n",
    "\n",
    "- You can pass in a string, float, or integer through the boolean function. \n",
    "- An empty string such as ```''```, the integer ```0```, or the float ```0.0``` are some examples that will return ```False```. Everything else returns ```True```.\n",
    "\n",
    "- તમે બુલિયન ફંક્શન દ્વારા સિટૃગ્સ, ફ્લોટ અથવા પૂર્ણાંકોમાં પસાર કરી શકો છો.\n",
    "- ખાલી સિટૃગ્સ જેમ કે ```''```, પૂર્ણાંક ```0``` અથવા ફ્લોટ ```0.0``` કેટલાક ઉદાહરણો છે જે પાછા આવશે ```False```. બાકીનું બધું ```True``` પરત આપે છે."
   ]
  },
  {
   "cell_type": "markdown",
   "metadata": {},
   "source": [
    "# End\n",
    "# સમાપ્ત\n",
    "\n",
    "<br>\n",
    "\n",
    "That's it for now with this basic data type notebook. \n",
    "\n",
    "હમણાં માટે અમે આ ડેટા ટાઇપ નોટબુક સાથે પૂર્ણ કર્યું છે.\n",
    "\n",
    "<br>\n",
    "\n",
    "Feel free to mess around with and solidify your understandings with code cells! \n",
    "\n",
    "પ્રેક્ટિસ કરો અને કોડ સેલ્સથી તમારી સમજણને મજબૂત બનાવો!\n",
    "\n",
    "<br>\n",
    "\n",
    "See you for the next notebook!\n",
    "\n",
    "હવે પછીની નોટબુક માટે મળીશું!"
   ]
  },
  {
   "cell_type": "markdown",
   "metadata": {},
   "source": [
    "### About this notebook: \n",
    "#### Developed by:\n",
    "* [Milan Butani](https://www.linkedin.com/in/milanbutani/) \n",
    "* [Liam McDonough](https://www.linkedin.com/in/liammmcdonough/)\n",
    "* [Colin Yee](https://www.linkedin.com/in/colin-yee-b724141ab/)\n",
    "* [Fancis Gonzales](https://www.linkedin.com/in/francis--gonzales/)\n",
    "\n",
    "#### Edits and Translations by:\n",
    "* [Neera Butani](https://www.linkedin.com/in/neera-butani-9019891b1/)\n",
    "\n",
    "#### Connect with us:\n",
    "<a href='https://www.linkedin.com/company/lanlearning/'> <img src=https://img.icons8.com/color/48/000000/linkedin.png width=\"48\" height=\"48\" align=\"left\"/></a>\n",
    "\n",
    "<a href='http://www.instagram.com/lanlearning'> <img src=https://img.icons8.com/fluent/48/000000/instagram-new.png width=\"48\" height=\"48\" align=\"left\"/></a>\n",
    "\n",
    "<a href='https://www.youtube.com/channel/UC5_yxU9pz4ka7xITJMxO5WA'> <img src=https://img.icons8.com/color/48/000000/youtube-squared.png width=\"48\" height=\"48\" align=\"left\"/></a>\n",
    "\n",
    "<a href='https://www.github.com/lanlearning/'> <img src=https://img.icons8.com/material-rounded/48/000000/github.png/ width=\"48\" height=\"48\" align=\"left\"/></a>\n",
    "\n"
   ]
  }
 ],
 "metadata": {
  "kernelspec": {
   "display_name": "Python 3",
   "language": "python",
   "name": "python3"
  },
  "language_info": {
   "codemirror_mode": {
    "name": "ipython",
    "version": 3
   },
   "file_extension": ".py",
   "mimetype": "text/x-python",
   "name": "python",
   "nbconvert_exporter": "python",
   "pygments_lexer": "ipython3",
   "version": "3.8.2"
  }
 },
 "nbformat": 4,
 "nbformat_minor": 4
}
