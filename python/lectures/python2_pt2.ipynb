{
 "cells": [
  {
   "cell_type": "markdown",
   "metadata": {},
   "source": [
    "___\n",
    "\n",
    "<a href='https://www.instagram.com/lanlearning/'> <img src='../pyimages/logosmall.png' width=\"100\" height=\"100\"/></a>\n",
    "___\n",
    "<center>Copyright LanLearning 2020</center>\n",
    "\n",
    "\n"
   ]
  },
  {
   "cell_type": "markdown",
   "metadata": {},
   "source": [
    "# Welcome back! Let's continue Python 2!\n",
    "# પાછા સ્વાગત છે! ચાલો પાયથોન 2 સમાપ્ત કરીએ!\n",
    "\n",
    "<br>\n",
    "\n",
    "We finished lists from last time, now we will finish off with Sets and Dictionaries!\n",
    "\n",
    "અમે છેલ્લા સમયથી યાદીઓ પૂર્ણ કરી, હવે અમે સેટ અને ડીકસનરી સાથે સમાપ્ત કરીશું!"
   ]
  },
  {
   "cell_type": "markdown",
   "metadata": {},
   "source": [
    "### Set: \n",
    "### સેટ:\n",
    "\n",
    "<br>\n",
    "\n",
    "A **set** is very similar to a list, except it does not have duplicate items in it. It also **does not support indexing**. \n",
    "\n",
    "**સેટ** લીસટ સાથે ખૂબ સમાન છે, સિવાય કે તેમાં ડુપ્લિકેટ આઇટમ્સ ન હોય. તે **પણ અનુક્રમણિકાને સપોર્ટ કરતું નથી**.\n",
    "\n",
    "<br>\n",
    "\n",
    "To create a set, use the **curly brackets** ```{ }```.\n",
    "\n",
    "સેટ બનાવવા માટે, ```{ }``` નો ઉપયોગ કરો.\n",
    "\n",
    "<br>\n",
    "\n",
    "There is also a function called ```set()``` which can turn a passed in list into a set. \n",
    "\n",
    "```set()``` નામનું ફંક્શન પણ છે જે નાખેલા લીસટને સેટમાં ફેરવી શકે છે."
   ]
  },
  {
   "cell_type": "code",
   "execution_count": null,
   "metadata": {},
   "outputs": [],
   "source": [
    "{1, 2, 3}"
   ]
  },
  {
   "cell_type": "code",
   "execution_count": null,
   "metadata": {},
   "outputs": [],
   "source": [
    "# Notice what happens when you write this: \n",
    "\n",
    "# તમે આ લખો ત્યારે શું થાય છે તે જુઓ:\n",
    "\n",
    "{2, 2, 2, 2, 2}"
   ]
  },
  {
   "cell_type": "markdown",
   "metadata": {},
   "source": [
    "In the code above, all the duplicate items were removed. \n",
    "\n",
    "ઉપરના કોડમાં, બધી ડુપ્લિકેટ વસ્તુઓ દૂર કરવામાં આવી હતી.\n",
    "\n",
    "<br>\n",
    "\n",
    "Now let's use the set function on our ```diverse_list```:\n",
    "\n",
    "હવે ચાલો આપણા ```diverse_list``` પર સેટ ફંક્શનનો ઉપયોગ કરીએ:"
   ]
  },
  {
   "cell_type": "code",
   "execution_count": null,
   "metadata": {},
   "outputs": [],
   "source": [
    "int(True)"
   ]
  },
  {
   "cell_type": "code",
   "execution_count": null,
   "metadata": {},
   "outputs": [],
   "source": [
    "diverse_list = [True, 'string', 3.0, 1]"
   ]
  },
  {
   "cell_type": "code",
   "execution_count": null,
   "metadata": {},
   "outputs": [],
   "source": [
    "set(diverse_list)"
   ]
  },
  {
   "cell_type": "code",
   "execution_count": null,
   "metadata": {},
   "outputs": [],
   "source": [
    "# Sets do not support indexing. \n",
    "\n",
    "# અનુક્રમણિકા સેટ સાથે કામ કરતું નથી.\n",
    "\n",
    "\n",
    "# That is why the following code will error:\n",
    "\n",
    "# તેથી જ નીચે આપેલ કોડ ભૂલ કરશે:\n",
    "\n",
    "set(diverse_list)[0]"
   ]
  },
  {
   "cell_type": "markdown",
   "metadata": {},
   "source": [
    "Notice how the brackets this time are curly. That is used to easily differentiate between a list and a set, as sets use curly brackets ```{}``` and lists use the square brackets ```[]```. \n",
    "\n",
    "સેટ ```{}``` નો ઉપયોગ કરે છે અને લીસટ ```[]``` નો ઉપયોગ કરે છે.\n",
    "\n",
    "<br>\n",
    "\n",
    "#### Usefulness of sets: \n",
    "#### સેટ ઉપયોગિતા:\n",
    "\n",
    "<br>\n",
    "\n",
    "You will commonly use sets in the later notebooks when you work with data. \n",
    "\n",
    "જ્યારે તમે ડેટા સાથે કામ કરો ત્યારે તમે સામાન્ય રીતે પછીની નોટબુકમાં સેટનો ઉપયોગ કરશો.\n",
    "\n",
    "<br>\n",
    "\n",
    "Sets are useful in understanding how many unique elements are in a certain list. Because the ```set()``` function removes duplicate values, you will always be left with the unique elements. Calling ```len()``` on it will allow you to see the number of unique items. \n",
    "\n",
    "લીસટ અનન્ય તત્વોને અલગ પાડશે. કારણ કે ```set()``` ફંક્શન ડુપ્લિકેટ મૂલ્યોને દૂર કરે છે, અનન્ય તત્વો રહેશે. તેના પર ```len()``` કોલ કરવાથી તમને અનન્ય વસ્તુઓની સંખ્યા જોવા મળશે. "
   ]
  },
  {
   "cell_type": "markdown",
   "metadata": {},
   "source": [
    "### Dictionary: \n",
    "### ડીકસનરી:\n",
    "\n",
    "<br>\n",
    "\n",
    "A **dictionary** is very similar to a list, except it has a different system for indexing. With a dictionary, you can specify what you want the \"location name\" for the index to be.\n",
    "\n",
    "**ડીકસનરી** લીસટ સાથે ખૂબ સમાન છે, સિવાય કે તેમાં અનુક્રમણિકા માટે અલગ સિસ્ટમ છે. ડીકસનરી સાથે તમે અનુક્રમણિકા માટે \"location name\" પસંદ કરી શકો છો.\n",
    "\n",
    "<br>\n",
    "\n",
    "**key** is what you will write in the ```[]```\n",
    "\n",
    "**કી** તે છે જે તમે ```[]``` માં લખશો\n",
    "\n",
    "<br>\n",
    "\n",
    "**value** is what will be returned when you write the corresponding key for it\n",
    "\n",
    "**મૂલ્યો** તે છે જ્યારે તમે તેના માટે અનુરૂપ કી લખો ત્યારે પરત આવશે\n",
    "\n",
    "<br>\n",
    "\n",
    "To create a dictionary, use the ```:``` to differentiate a key and a value pair. Use **curly brackets** ```{ }```!\n",
    "\n",
    "ડીકસનરી બનાવવા માટે, કી અને મૂલ્યની જોડીને અલગ પાડવા માટે ```:``` નો ઉપયોગ કરો. ```{ }``` ઉપયોગ કરો !"
   ]
  },
  {
   "cell_type": "code",
   "execution_count": null,
   "metadata": {},
   "outputs": [],
   "source": [
    "simple_dictionary = {1:'one', 2:'two', 3:'three'}"
   ]
  },
  {
   "cell_type": "code",
   "execution_count": null,
   "metadata": {},
   "outputs": [],
   "source": [
    "simple_dictionary[1]"
   ]
  },
  {
   "cell_type": "code",
   "execution_count": null,
   "metadata": {},
   "outputs": [],
   "source": [
    "simple_dictionary[2]"
   ]
  },
  {
   "cell_type": "code",
   "execution_count": null,
   "metadata": {},
   "outputs": [],
   "source": [
    "simple_dictionary[3]"
   ]
  },
  {
   "cell_type": "markdown",
   "metadata": {},
   "source": [
    "Notice how you can have various data types in dictionaries. \n",
    "\n",
    "જુઓ કે તમારી પાસે ડીકસનરીમાં વિવિધ ડેટા પ્રકારો કેવી રીતે હોઈ શકે.\n",
    "\n",
    "<br>\n",
    "\n",
    "Also, you cannot index into a dictionary using anything other than a key. \n",
    "\n",
    "ઉપરાંત, તમે કી સિવાયના અન્ય કંઈપણનો ઉપયોગ કરીને ડીકસનરીમાં અનુક્રમણિકા કરી શકતા નથી. "
   ]
  },
  {
   "cell_type": "code",
   "execution_count": null,
   "metadata": {},
   "outputs": [],
   "source": [
    "simple_dictionary = {'one': 1, 'two': 2, 'three': 3}"
   ]
  },
  {
   "cell_type": "markdown",
   "metadata": {},
   "source": [
    "You can separate the keys and values by using ```.keys()``` and ```.values()``` on your dictionary variable. \n",
    "\n",
    "તમે તમારા ડીકસનરી વેરીએબલ પર ```.keys()``` અને ```.values()``` નો ઉપયોગ કરીને કીઓ અને મૂલ્યોને અલગ કરી શકો છો."
   ]
  },
  {
   "cell_type": "code",
   "execution_count": null,
   "metadata": {},
   "outputs": [],
   "source": [
    "simple_dictionary.keys()"
   ]
  },
  {
   "cell_type": "code",
   "execution_count": null,
   "metadata": {},
   "outputs": [],
   "source": [
    "simple_dictionary.values()"
   ]
  },
  {
   "cell_type": "markdown",
   "metadata": {},
   "source": [
    "<br>\n",
    "<img src='../pyimages/dict.png' width=\"500\"/></a>\n",
    "<br>"
   ]
  },
  {
   "cell_type": "markdown",
   "metadata": {},
   "source": [
    "**Adding Pairs to a Dictionary**\n",
    "\n",
    "**ડીકસનરીમા જોડી ઉમેરો**"
   ]
  },
  {
   "cell_type": "markdown",
   "metadata": {},
   "source": [
    "If you want to add a new pair (or pairs) to a dictionary, there are a couple ways you can do it. Say you had a dictionary where the keys were people's names and the values were their ages.\n",
    "\n",
    "જો તમે કોઈ ડીકસનરીમા નવી જોડી (અથવા જોડીઓ) ઉમેરવા માંગતા હો, તો તમે તેને કરવા માટે કેટલીક રીતો છે. કહો કે તમારી પાસે એક ડીકસનરી છે જ્યાં કીઝ લોકોના નામ છે અને મૂલ્યો તેમની ઉંમર છે."
   ]
  },
  {
   "cell_type": "code",
   "execution_count": null,
   "metadata": {},
   "outputs": [],
   "source": [
    "name_and_age = {\"Aidan\": 14, \"Kyra\": 17, \"Max\": 16, \"Yoda\": 900}"
   ]
  },
  {
   "cell_type": "markdown",
   "metadata": {},
   "source": [
    "You could add a new pair by simply writing **dictionary_name[new_key] = new_pair**\n",
    "\n",
    "તમે ફક્ત **dictionary_name[new_key] = new_pair** લખીને એક નવી જોડી ઉમેરી શકો છો"
   ]
  },
  {
   "cell_type": "code",
   "execution_count": null,
   "metadata": {},
   "outputs": [],
   "source": [
    "name_and_age[\"Larry\"] = 34"
   ]
  },
  {
   "cell_type": "markdown",
   "metadata": {},
   "source": [
    "Or you could create a dictionary of the new pairs you want to add and then use the **.update(more_pairs)** method\n",
    "\n",
    "અથવા તમે ઉમેરવા માંગતા હો તે નવી જોડીની ડીકસનરી બનાવી શકો અને પછી **.update(more_pairs)** પદ્ધતિનો ઉપયોગ કરો"
   ]
  },
  {
   "cell_type": "code",
   "execution_count": null,
   "metadata": {},
   "outputs": [],
   "source": [
    "name_and_age.update({\"Abby\": 7, \"Chris\": 9})"
   ]
  },
  {
   "cell_type": "markdown",
   "metadata": {},
   "source": [
    "Yay! You have successfully added on to the name_and_age dictionary!\n",
    "\n",
    "તમે સફળતાપૂર્વક name_and_age ડીકસનરીમાં ઉમેર્યા છે!"
   ]
  },
  {
   "cell_type": "code",
   "execution_count": null,
   "metadata": {},
   "outputs": [],
   "source": [
    "name_and_age"
   ]
  },
  {
   "cell_type": "markdown",
   "metadata": {},
   "source": [
    "**Note:** If you add a new pair with a key value that is already in the dictionary, the value associated with the new key value will override the old value.\n",
    "\n",
    "જો તમે કીમાં જે નવી જોડી ઉમેરી રહ્યા છે જે ડીકસનરીમાં પહેલેથી જ છે, તો નવા કી મૂલ્ય સાથે સંકળાયેલ મૂલ્ય જૂના મૂલ્યને બદલશે."
   ]
  },
  {
   "cell_type": "code",
   "execution_count": null,
   "metadata": {},
   "outputs": [],
   "source": [
    "name_and_age[\"Yoda\"] = 901\n",
    "name_and_age                 # look! the age associated with Yoda has changed from 900 to 901!"
   ]
  },
  {
   "cell_type": "markdown",
   "metadata": {},
   "source": [
    "**Deleting Pairs from a Dictionary**\n",
    "\n",
    "**ડીકસનરી માથી જોડી કાઢવાા**"
   ]
  },
  {
   "cell_type": "markdown",
   "metadata": {},
   "source": [
    "Just like you can add new pairs to a dictionary, you can also remove pairs from a dictionary. The method **.pop(key_name)** works to delete items from a dictionary when you know the key value. For example, say Yoda unfortunately kicked the bucket. You could remove him from the list by writing .pop(\"Yoda\")\n",
    "\n",
    "જેમ તમે કોઈ શબ્દકોશમાં નવી જોડીઓ ઉમેરી શકો છો, તેવી જ રીતે તમે શબ્દકોશમાંથી જોડીઓ પણ દૂર કરી શકો છો. જ્યારે તમે કી મૂલ્ય જાણો છો ત્યારે **.pop(key_name)** પદ્ધતિ શબ્દકોશમાંથી આઇટમ્સને દૂર કરવા માટે કાર્ય કરે છે"
   ]
  },
  {
   "cell_type": "code",
   "execution_count": null,
   "metadata": {},
   "outputs": [],
   "source": [
    "name_and_age.pop(\"Yoda\")\n",
    "name_and_age"
   ]
  },
  {
   "cell_type": "code",
   "execution_count": null,
   "metadata": {},
   "outputs": [],
   "source": [
    "# All the keys in a dictionary are unique, so what do we call that? \n",
    "\n",
    "# ડિક્શનરીની બધી કી અનન્ય છે, તેથી આપણે તેને શું કહીશું?\n",
    "\n",
    "\n",
    "# KEYS IN A DICTIONARY ARE A SET \n",
    "\n",
    "# મુખ્ય શબ્દોમાં એક સેટ છે\n",
    "\n",
    "\n",
    "# Jump and leap mean the same thing, the keys 'jump' and 'leap', will have the same definition or value"
   ]
  },
  {
   "cell_type": "code",
   "execution_count": null,
   "metadata": {},
   "outputs": [],
   "source": [
    "first_name = ['Neera', 'Milan', 'Kyra', 'Saro']\n",
    "last_name = ['Butani', 'Butani', 'Yee', 'Guregyan']"
   ]
  },
  {
   "cell_type": "code",
   "execution_count": null,
   "metadata": {},
   "outputs": [],
   "source": [
    "zip(first_name, last_name)"
   ]
  },
  {
   "cell_type": "code",
   "execution_count": null,
   "metadata": {},
   "outputs": [],
   "source": [
    "name = dict(zip(first_name, last_name))"
   ]
  },
  {
   "cell_type": "code",
   "execution_count": null,
   "metadata": {},
   "outputs": [],
   "source": [
    "name"
   ]
  },
  {
   "cell_type": "code",
   "execution_count": null,
   "metadata": {},
   "outputs": [],
   "source": [
    "name['Neera']"
   ]
  },
  {
   "cell_type": "code",
   "execution_count": null,
   "metadata": {},
   "outputs": [],
   "source": [
    "name['Kyra']"
   ]
  },
  {
   "cell_type": "code",
   "execution_count": null,
   "metadata": {},
   "outputs": [],
   "source": [
    "name.keys()"
   ]
  },
  {
   "cell_type": "code",
   "execution_count": null,
   "metadata": {},
   "outputs": [],
   "source": [
    "name.values()"
   ]
  },
  {
   "cell_type": "code",
   "execution_count": null,
   "metadata": {},
   "outputs": [],
   "source": [
    "# KeyError, means there's no key found \n",
    "\n",
    "# KeyError, એટલે કે ત્યાં કોઈ કી મળી નથી\n",
    "\n",
    "name['Butani']"
   ]
  },
  {
   "cell_type": "code",
   "execution_count": null,
   "metadata": {},
   "outputs": [],
   "source": []
  },
  {
   "cell_type": "code",
   "execution_count": null,
   "metadata": {},
   "outputs": [],
   "source": [
    "'thisisabigstring'[0]"
   ]
  },
  {
   "cell_type": "code",
   "execution_count": null,
   "metadata": {},
   "outputs": [],
   "source": [
    "'LILLARD'[-1] + 'LILLARD'[0]\n",
    "\n",
    "# [starting : ending + 1]"
   ]
  },
  {
   "cell_type": "code",
   "execution_count": null,
   "metadata": {},
   "outputs": [],
   "source": [
    "#Another way to get 'dL'\n",
    "\n",
    "'LILLARD'[6] + 'LILLARD'[0]"
   ]
  },
  {
   "cell_type": "code",
   "execution_count": null,
   "metadata": {},
   "outputs": [],
   "source": [
    "'Damian'[0:3]"
   ]
  },
  {
   "cell_type": "markdown",
   "metadata": {},
   "source": [
    "### Using the ```dict()``` function. \n",
    "### ```dict()``` કાર્યો નો ઉપયોગ કરીને\n",
    "\n",
    "<br>\n",
    "\n",
    "You can create a dictionary by using the built-in ```dict()``` function. \n",
    "\n",
    "તમે બિલ્ટ-ઇન ```dict()``` ફંક્શનનો ઉપયોગ કરીને ડીકસનરી બનાવી શકો છો.\n",
    "\n",
    "<br>\n",
    "\n",
    "Before that, let's understand the ```zip()``` function. \n",
    "\n",
    "તે પહેલાં, ચાલો ```zip()``` કાર્ય સમજીએ.\n",
    "\n",
    "<br>\n",
    "\n",
    "### Zipping (combining) two lists together:\n",
    "### બે લીસટને એક સાથે ઝિપ (જોડી) કરી રહ્યાં છે:\n",
    "\n",
    "<br>\n",
    "<img src='../pyimages/zip.jpg' width=\"400\"/></a>\n",
    "\n",
    "Cool article about the zip: https://www.economist.com/christmas-specials/2018/12/18/the-invention-slow-adoption-and-near-perfection-of-the-zip\n",
    "<br>\n",
    "\n",
    "<br>\n",
    "\n",
    "<br>\n",
    "\n",
    "The built-in ```zip()``` function allows you to combine two lists by their corresponding elements. \n",
    "\n",
    "બિલ્ટ-ઇન ```zip()``` ફંક્શન તમને તેના અનુરૂપ તત્વો દ્વારા બે લીસટને જોડવાની મંજૂરી આપે છે. "
   ]
  },
  {
   "cell_type": "code",
   "execution_count": null,
   "metadata": {},
   "outputs": [],
   "source": [
    "number_spellings = ['one', 'two', 'three']\n",
    "numbers = [1, 2, 3]"
   ]
  },
  {
   "cell_type": "markdown",
   "metadata": {},
   "source": [
    "If you wanted to pair together the spelling of a number with its corresponding numerical value, you can do the following:\n",
    "\n",
    "જો તમે કોઈ સંખ્યાની જોડણી તેના અનુરૂપ આંકડાકીય મૂલ્ય સાથે જોડવા માંગતા હો, તો તમે નીચે આપેલ કામ કરી શકો છો:"
   ]
  },
  {
   "cell_type": "code",
   "execution_count": null,
   "metadata": {},
   "outputs": [],
   "source": [
    "zip(number_spellings, numbers)"
   ]
  },
  {
   "cell_type": "code",
   "execution_count": null,
   "metadata": {},
   "outputs": [],
   "source": [
    "list(zip(number_spellings, numbers))"
   ]
  },
  {
   "cell_type": "markdown",
   "metadata": {},
   "source": [
    "If you don't pass the zip into a ```list()```, the ```zip()``` function returns a zip object, which can be opened or \"unlocked\" using another function. \n",
    "\n",
    "જો તમે ઝિપને ```list()``` માં પાસ ન કરો, તો ```zip()``` ફંક્શન zip object આપે છે, જે બીજા ફંક્શનની મદદથી ખોલી શકાય છે."
   ]
  },
  {
   "cell_type": "markdown",
   "metadata": {},
   "source": [
    "You can open a zip by using the ```dict()``` function:\n",
    "\n",
    "તમે ```dict()``` ફંક્શનનો ઉપયોગ કરીને ઝિપ ખોલી શકો છો:"
   ]
  },
  {
   "cell_type": "code",
   "execution_count": null,
   "metadata": {},
   "outputs": [],
   "source": [
    "dict(zip(number_spellings, numbers))"
   ]
  },
  {
   "cell_type": "code",
   "execution_count": null,
   "metadata": {},
   "outputs": [],
   "source": [
    "numbers2 = dict(zip(number_spellings, numbers))\n",
    "numbers2"
   ]
  },
  {
   "cell_type": "code",
   "execution_count": null,
   "metadata": {},
   "outputs": [],
   "source": [
    "# I want to get the value 3 from my dictionary.\n",
    "\n",
    "# હું મારા ડીકસનરીમાંથી મૂલ્ય 3 મેળવવા માંગું છું.\n",
    "\n",
    "numbers2['three']\n",
    "\n",
    "\n",
    "# Everything before the ':' is a key, and everything after ':' is a value.\n",
    "\n",
    "# ':' પહેલાંની દરેક વસ્તુ એક કી છે, અને ':' પછીની બધી કિંમત છે.\n",
    "\n",
    "\n",
    "# In a dictionary, you use keys to index.\n",
    "\n",
    "# ડીકસનરીમાં, તમે અનુક્રમણિકાની કીઓનો ઉપયોગ કરો છો."
   ]
  },
  {
   "cell_type": "code",
   "execution_count": null,
   "metadata": {},
   "outputs": [],
   "source": []
  },
  {
   "cell_type": "markdown",
   "metadata": {},
   "source": [
    "This is usually how a dictionary is created using the ```dict()``` function. \n",
    "\n",
    "આ સામાન્ય રીતે ```dict()``` ફંકશનનો ઉપયોગ કરીને ડીકસનરી બનાવવામાં આવે છે.\n",
    "\n",
    "<br>\n",
    "\n",
    "These tools and techniques are commonly used when preparing your data. You will be doing this in later notebooks when we work with more data sets and Pandas.\n",
    "\n",
    "આ ડેટા અને પદ્ધતિઓ ઉપયોગ સામાન્ય રીતે તમારો ડેટા તૈયાર કરતી વખતે કરવામાં આવે છે. જ્યારે અમે વધુ ડેટા સેટ્સ અને પાંડા સાથે કામ કરીએ ત્યારે તમે પછીની નોટબુકમાં આ કરી રહ્યાં છો."
   ]
  },
  {
   "cell_type": "markdown",
   "metadata": {},
   "source": [
    "# Recap\n",
    "# સારાંશ"
   ]
  },
  {
   "cell_type": "markdown",
   "metadata": {},
   "source": [
    "**Set** <br>\n",
    "**સેટ**\n",
    "\n",
    "<br>\n",
    "\n",
    "- Similar to lists, this does not support indexing. It uses ```{}```.\n",
    "- This is useful in understanding how many unique elements there are in a certain list; the ```set()``` function removes duplicate values in a list\n",
    "\n",
    "\n",
    "- લીસટની જેમ, અનુક્રમણિકા સેટ સાથે કામ કરતું નથી. તે ```{}``` નો ઉપયોગ કરે છે.\n",
    "- ચોક્કસ સૂચિમાં કેટલા અનન્ય તત્વો છે તે સમજવામાં આ ઉપયોગી છે; ```set()``` ફંક્શન સૂચિમાં ડુપ્લિકેટ મૂલ્યોને દૂર કરે છે\n",
    "\n",
    "<br>\n",
    "    \n",
    "**Dictionaries** <br>\n",
    "**ડીકસનરી**\n",
    "\n",
    "<br>\n",
    "\n",
    "- This uses curly brackets ```{}```, and has two important aspects: the key (which is what you will write in the ```[]```) and the value (which is what will be returned when you write the corresponding key for it)\n",
    "- Ex: male_tennis_players = {\"Roger Federer\": \"Switzerland\", \"Rafael Nadal\": \"Spain\", \"Novak Djokovic\": \"Serbia\"}\n",
    "\n",
    "\n",
    "- ડીકસનરી ```{}``` નો ઉપયોગ કરે છે, અને તેમાં બે મહત્વપૂર્ણ પાસાં છે: કી (જે તમે ```[]``` માં લખશો તે જ છે) અને મૂલ્ય (જે તે માટે અનુરૂપ કી લખો ત્યારે પરત મળશે)\n",
    "\n",
    "<br>\n",
    "\n",
    "- Pairs can be added by using dictionary_name[new_key] = new_pair or .update(more_pairs). Pairs can be removed by using .pop(key_name)\n",
    "- Ex: tennis_players[\"Andy Murray\"] = \"United Kingdom\" or tennis_players.update({\"Alexander Zverev\": Germany}), tennis_players.pop(\"Rafael Nadal\")\n",
    "\n",
    "- dictionary_name[new_key] = new_pair અથવા .update(more_pairs). નો ઉપયોગ કરીને જોડી ઉમેરી શકાય છે .pop(key_name) નો ઉપયોગ કરીને જોડી દૂર કરી શકાય છે."
   ]
  },
  {
   "cell_type": "markdown",
   "metadata": {},
   "source": [
    "# End\n",
    "# સમાપ્ત\n",
    "\n",
    "<br>\n",
    "\n",
    "That's it for now with this basic data type notebook. \n",
    "\n",
    "હમણાં માટે અમે આ ડેટા ટાઇપ નોટબુક સાથે પૂર્ણ કર્યું છે.\n",
    "\n",
    "<br>\n",
    "\n",
    "Feel free to mess around with and solidify your understandings with code cells! \n",
    "\n",
    "પ્રેક્ટિસ કરો અને કોડ સેલ્સથી તમારી સમજણને મજબૂત બનાવો!\n",
    "\n",
    "<br>\n",
    "\n",
    "See you for the next notebook!\n",
    "\n",
    "હવે પછીની નોટબુક માટે મળીશું!"
   ]
  },
  {
   "cell_type": "markdown",
   "metadata": {},
   "source": [
    "### About this notebook: \n",
    "#### Developed by:\n",
    "* [Milan Butani](https://www.linkedin.com/in/milanbutani/) \n",
    "* [Kyra Yee](https://www.linkedin.com/in/kyrayee/)\n",
    "* [Colin Yee](https://www.linkedin.com/in/colin-yee-b724141ab/)\n",
    "* [Bernice Lau](https://www.linkedin.com/in/bernicelau430/)\n",
    "\n",
    "#### Edits and Translations by:\n",
    "* [Neera Butani](https://www.linkedin.com/in/neera-butani-9019891b1/)\n",
    "\n",
    "#### Connect with us:\n",
    "<a href='https://www.linkedin.com/company/lanlearning/'> <img src=https://img.icons8.com/color/48/000000/linkedin.png width=\"48\" height=\"48\" align=\"left\"/></a>\n",
    "\n",
    "<a href='http://www.instagram.com/lanlearning'> <img src=https://img.icons8.com/fluent/48/000000/instagram-new.png width=\"48\" height=\"48\" align=\"left\"/></a>\n",
    "\n",
    "<a href='https://www.youtube.com/channel/UC5_yxU9pz4ka7xITJMxO5WA'> <img src=https://img.icons8.com/color/48/000000/youtube-squared.png width=\"48\" height=\"48\" align=\"left\"/></a>\n",
    "\n",
    "<a href='https://www.github.com/lanlearning/'> <img src=https://img.icons8.com/material-rounded/48/000000/github.png/ width=\"48\" height=\"48\" align=\"left\"/></a>"
   ]
  },
  {
   "cell_type": "code",
   "execution_count": null,
   "metadata": {},
   "outputs": [],
   "source": []
  }
 ],
 "metadata": {
  "kernelspec": {
   "display_name": "Python 3",
   "language": "python",
   "name": "python3"
  },
  "language_info": {
   "codemirror_mode": {
    "name": "ipython",
    "version": 3
   },
   "file_extension": ".py",
   "mimetype": "text/x-python",
   "name": "python",
   "nbconvert_exporter": "python",
   "pygments_lexer": "ipython3",
   "version": "3.8.2"
  }
 },
 "nbformat": 4,
 "nbformat_minor": 4
}
